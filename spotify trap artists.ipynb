{
 "cells": [
  {
   "cell_type": "markdown",
   "metadata": {},
   "source": [
    "# Playing around with the Spotify API"
   ]
  },
  {
   "cell_type": "code",
   "execution_count": 32,
   "metadata": {
    "collapsed": false
   },
   "outputs": [],
   "source": [
    "import pandas as pd\n",
    "import numpy as np\n",
    "import os\n",
    "import sys\n",
    "import spotipy\n",
    "import keras\n",
    "from keras.models import Sequential\n",
    "from keras.layers import Dense, Activation\n",
    "from spotipy.oauth2 import SpotifyClientCredentials\n",
    "import spotipy.util as util\n",
    "\n",
    "from scipy import spatial"
   ]
  },
  {
   "cell_type": "code",
   "execution_count": 18,
   "metadata": {
    "collapsed": false
   },
   "outputs": [],
   "source": [
    "\n",
    "os.environ['SPOTIPY_CLIENT_ID'] = \"cba9273cc2784d68b10cab9a7f7a25e6\" \n",
    "os.environ['SPOTIPY_CLIENT_SECRET'] = \"5df1e92959334eaca52ccdcb279f31c6\" \n",
    "os.environ['SPOTIPY_REDIRECT_URI'] = \"http://localhost:8888/callback\" \n",
    "\n",
    "#export SPOTIPY_CLIENT_ID='cba9273cc2784d68b10cab9a7f7a25e6'\n",
    "#!export SPOTIPY_CLIENT_SECRE='5df1e92959334eaca52ccdcb279f31c6'T\n",
    "#!export SPOTIPY_REDIRECT_URI='http://localhost:8888/callback'"
   ]
  },
  {
   "cell_type": "code",
   "execution_count": 20,
   "metadata": {
    "collapsed": false
   },
   "outputs": [
    {
     "name": "stdout",
     "output_type": "stream",
     "text": [
      "\n",
      "\n",
      "            User authentication requires interaction with your\n",
      "            web browser. Once you enter your credentials and\n",
      "            give authorization, you will be redirected to\n",
      "            a url.  Paste that url you were directed to to\n",
      "            complete the authorization.\n",
      "\n",
      "        \n",
      "Opened https://accounts.spotify.com/authorize?client_id=cba9273cc2784d68b10cab9a7f7a25e6&response_type=code&redirect_uri=http%3A%2F%2Flocalhost%3A8888%2Fcallback in your browser\n",
      "\n",
      "\n",
      "Enter the URL you were redirected to: http://localhost:8888/callback?code=AQD2v-vlTAkWD7oMfT6HjR9mBEwAOURhiwG2IogHtRzjW9iP2ONDPEtaV3Zw3v3mLnEAwScRzAaWrkBD9WQOHvxyUzAl438Ug4BzUY6NsaVR5El6U774zZAJZu6i-OYJ_QMYm31Xxhy-1wH0m3URmDO4aFZ0ElDroIKoo8Xpg5bZ4BNYpUzkdd06e5Vf6T5_vJccMw\n",
      "\n",
      "\n"
     ]
    }
   ],
   "source": [
    "'''\n",
    "define the API connection - usually log in from here as well...\n",
    "'''\n",
    "token = util.prompt_for_user_token('cba9273cc2784d68b10cab9a7f7a25e6', '')\n",
    "\n",
    "client_credentials_manager = SpotifyClientCredentials()\n",
    "sp = spotipy.Spotify(client_credentials_manager=client_credentials_manager)\n",
    "\n",
    "\n",
    "#spotify=spotipy.Spotify()\n"
   ]
  },
  {
   "cell_type": "code",
   "execution_count": 49,
   "metadata": {
    "collapsed": false
   },
   "outputs": [
    {
     "name": "stdout",
     "output_type": "stream",
     "text": [
      "{'tracks': [{'artists': [{'type': 'artist', 'id': '2WX2uTcsvV5OnS0inACecP', 'name': 'Birdy', 'external_urls': {'spotify': 'https://open.spotify.com/artist/2WX2uTcsvV5OnS0inACecP'}, 'href': 'https://api.spotify.com/v1/artists/2WX2uTcsvV5OnS0inACecP', 'uri': 'spotify:artist:2WX2uTcsvV5OnS0inACecP'}], 'popularity': 78, 'track_number': 2, 'name': 'Skinny Love', 'id': '4RL77hMWUq35NYnPLXBpih', 'href': 'https://api.spotify.com/v1/tracks/4RL77hMWUq35NYnPLXBpih', 'uri': 'spotify:track:4RL77hMWUq35NYnPLXBpih', 'type': 'track', 'album': {'artists': [{'type': 'artist', 'id': '2WX2uTcsvV5OnS0inACecP', 'name': 'Birdy', 'external_urls': {'spotify': 'https://open.spotify.com/artist/2WX2uTcsvV5OnS0inACecP'}, 'href': 'https://api.spotify.com/v1/artists/2WX2uTcsvV5OnS0inACecP', 'uri': 'spotify:artist:2WX2uTcsvV5OnS0inACecP'}], 'id': '1WGjSVIw0TVfbp5KrOFiP0', 'album_type': 'album', 'type': 'album', 'available_markets': ['AR', 'AT', 'BE', 'BG', 'BO', 'BR', 'CH', 'CL', 'CO', 'CR', 'CZ', 'DE', 'DK', 'DO', 'EC', 'EE', 'FI', 'GR', 'GT', 'HK', 'HN', 'HU', 'ID', 'IE', 'IS', 'IT', 'JP', 'LT', 'LU', 'LV', 'MX', 'MY', 'NI', 'NL', 'NO', 'NZ', 'PA', 'PE', 'PH', 'PL', 'PY', 'SE', 'SG', 'SK', 'SV', 'TR', 'TW', 'US', 'UY'], 'name': 'Birdy', 'external_urls': {'spotify': 'https://open.spotify.com/album/1WGjSVIw0TVfbp5KrOFiP0'}, 'images': [{'width': 640, 'url': 'https://i.scdn.co/image/99916fd005d57c040ef5df8d8f66f74195588819', 'height': 640}, {'width': 300, 'url': 'https://i.scdn.co/image/79271a1f8b114c89be18003c60b7fbfc1d587d04', 'height': 300}, {'width': 64, 'url': 'https://i.scdn.co/image/806eac470054a9b8c2b0397c27a9c0a6d01f5494', 'height': 64}], 'href': 'https://api.spotify.com/v1/albums/1WGjSVIw0TVfbp5KrOFiP0', 'uri': 'spotify:album:1WGjSVIw0TVfbp5KrOFiP0'}, 'duration_ms': 201080, 'available_markets': ['AR', 'AT', 'BE', 'BG', 'BO', 'BR', 'CH', 'CL', 'CO', 'CR', 'CZ', 'DE', 'DK', 'DO', 'EC', 'EE', 'FI', 'GR', 'GT', 'HK', 'HN', 'HU', 'ID', 'IE', 'IS', 'IT', 'JP', 'LT', 'LU', 'LV', 'MX', 'MY', 'NI', 'NL', 'NO', 'NZ', 'PA', 'PE', 'PH', 'PL', 'PY', 'SE', 'SG', 'SK', 'SV', 'TR', 'TW', 'US', 'UY'], 'disc_number': 1, 'external_ids': {'isrc': 'GBAHS1100350'}, 'external_urls': {'spotify': 'https://open.spotify.com/track/4RL77hMWUq35NYnPLXBpih'}, 'preview_url': 'https://p.scdn.co/mp3-preview/fa2ee949327d85e7bd22385f00737744ebf87d60?cid=cba9273cc2784d68b10cab9a7f7a25e6', 'explicit': False}, {'artists': [{'type': 'artist', 'id': '2WX2uTcsvV5OnS0inACecP', 'name': 'Birdy', 'external_urls': {'spotify': 'https://open.spotify.com/artist/2WX2uTcsvV5OnS0inACecP'}, 'href': 'https://api.spotify.com/v1/artists/2WX2uTcsvV5OnS0inACecP', 'uri': 'spotify:artist:2WX2uTcsvV5OnS0inACecP'}, {'type': 'artist', 'id': '07FfkbljNIdl45Ijlh1aXS', 'name': 'RHODES', 'external_urls': {'spotify': 'https://open.spotify.com/artist/07FfkbljNIdl45Ijlh1aXS'}, 'href': 'https://api.spotify.com/v1/artists/07FfkbljNIdl45Ijlh1aXS', 'uri': 'spotify:artist:07FfkbljNIdl45Ijlh1aXS'}], 'popularity': 72, 'track_number': 1, 'name': 'Let It All Go', 'id': '70K0ezmzYEZeqoSaZMyP7o', 'href': 'https://api.spotify.com/v1/tracks/70K0ezmzYEZeqoSaZMyP7o', 'uri': 'spotify:track:70K0ezmzYEZeqoSaZMyP7o', 'type': 'track', 'album': {'artists': [{'type': 'artist', 'id': '2WX2uTcsvV5OnS0inACecP', 'name': 'Birdy', 'external_urls': {'spotify': 'https://open.spotify.com/artist/2WX2uTcsvV5OnS0inACecP'}, 'href': 'https://api.spotify.com/v1/artists/2WX2uTcsvV5OnS0inACecP', 'uri': 'spotify:artist:2WX2uTcsvV5OnS0inACecP'}, {'type': 'artist', 'id': '07FfkbljNIdl45Ijlh1aXS', 'name': 'RHODES', 'external_urls': {'spotify': 'https://open.spotify.com/artist/07FfkbljNIdl45Ijlh1aXS'}, 'href': 'https://api.spotify.com/v1/artists/07FfkbljNIdl45Ijlh1aXS', 'uri': 'spotify:artist:07FfkbljNIdl45Ijlh1aXS'}], 'id': '70kdvnoDEA1srIsofErTEw', 'album_type': 'single', 'type': 'album', 'available_markets': ['AD', 'AR', 'AT', 'BE', 'BG', 'BO', 'BR', 'CA', 'CH', 'CL', 'CO', 'CR', 'CY', 'CZ', 'DE', 'DK', 'DO', 'EC', 'EE', 'ES', 'FI', 'FR', 'GB', 'GR', 'GT', 'HK', 'HN', 'HU', 'ID', 'IE', 'IS', 'IT', 'JP', 'LI', 'LT', 'LU', 'LV', 'MC', 'MT', 'MX', 'MY', 'NI', 'NL', 'NO', 'NZ', 'PA', 'PE', 'PH', 'PL', 'PT', 'PY', 'SE', 'SG', 'SK', 'SV', 'TR', 'TW', 'US', 'UY'], 'name': 'Let It All Go', 'external_urls': {'spotify': 'https://open.spotify.com/album/70kdvnoDEA1srIsofErTEw'}, 'images': [{'width': 640, 'url': 'https://i.scdn.co/image/cb77cf2ac14d1bc2251696c9aa1d85426ec04a5a', 'height': 640}, {'width': 300, 'url': 'https://i.scdn.co/image/6bb05a8405608f36c681be90b1ca9d417a344e9a', 'height': 300}, {'width': 64, 'url': 'https://i.scdn.co/image/7e92932997525399f88de139bb823330d824d59c', 'height': 64}], 'href': 'https://api.spotify.com/v1/albums/70kdvnoDEA1srIsofErTEw', 'uri': 'spotify:album:70kdvnoDEA1srIsofErTEw'}, 'duration_ms': 280757, 'available_markets': ['AD', 'AR', 'AT', 'BE', 'BG', 'BO', 'BR', 'CA', 'CH', 'CL', 'CO', 'CR', 'CY', 'CZ', 'DE', 'DK', 'DO', 'EC', 'EE', 'ES', 'FI', 'FR', 'GB', 'GR', 'GT', 'HK', 'HN', 'HU', 'ID', 'IE', 'IS', 'IT', 'JP', 'LI', 'LT', 'LU', 'LV', 'MC', 'MT', 'MX', 'MY', 'NI', 'NL', 'NO', 'NZ', 'PA', 'PE', 'PH', 'PL', 'PT', 'PY', 'SE', 'SG', 'SK', 'SV', 'TR', 'TW', 'US', 'UY'], 'disc_number': 1, 'external_ids': {'isrc': 'GBAHS1500362'}, 'external_urls': {'spotify': 'https://open.spotify.com/track/70K0ezmzYEZeqoSaZMyP7o'}, 'preview_url': 'https://p.scdn.co/mp3-preview/8ec4cec52d5a1acab8a572e5ab83613526faeef1?cid=cba9273cc2784d68b10cab9a7f7a25e6', 'explicit': False}, {'artists': [{'type': 'artist', 'id': '2WX2uTcsvV5OnS0inACecP', 'name': 'Birdy', 'external_urls': {'spotify': 'https://open.spotify.com/artist/2WX2uTcsvV5OnS0inACecP'}, 'href': 'https://api.spotify.com/v1/artists/2WX2uTcsvV5OnS0inACecP', 'uri': 'spotify:artist:2WX2uTcsvV5OnS0inACecP'}], 'popularity': 69, 'track_number': 1, 'name': 'Not About Angels', 'id': '5sF7hdYvhrcgNq8NZjfK8L', 'href': 'https://api.spotify.com/v1/tracks/5sF7hdYvhrcgNq8NZjfK8L', 'uri': 'spotify:track:5sF7hdYvhrcgNq8NZjfK8L', 'type': 'track', 'album': {'artists': [{'type': 'artist', 'id': '2WX2uTcsvV5OnS0inACecP', 'name': 'Birdy', 'external_urls': {'spotify': 'https://open.spotify.com/artist/2WX2uTcsvV5OnS0inACecP'}, 'href': 'https://api.spotify.com/v1/artists/2WX2uTcsvV5OnS0inACecP', 'uri': 'spotify:artist:2WX2uTcsvV5OnS0inACecP'}], 'id': '7DRvJhjucsH34zMXtEh0ER', 'album_type': 'single', 'type': 'album', 'available_markets': ['AD', 'AR', 'AT', 'AU', 'BE', 'BG', 'BO', 'BR', 'CA', 'CH', 'CL', 'CO', 'CR', 'CY', 'CZ', 'DE', 'DK', 'DO', 'EC', 'EE', 'ES', 'FI', 'FR', 'GB', 'GR', 'GT', 'HK', 'HN', 'HU', 'ID', 'IE', 'IS', 'IT', 'JP', 'LT', 'LU', 'LV', 'MC', 'MT', 'MY', 'NI', 'NL', 'NO', 'NZ', 'PA', 'PE', 'PH', 'PL', 'PT', 'PY', 'SE', 'SG', 'SK', 'SV', 'TR', 'TW', 'US', 'UY'], 'name': 'Not About Angels', 'external_urls': {'spotify': 'https://open.spotify.com/album/7DRvJhjucsH34zMXtEh0ER'}, 'images': [{'width': 640, 'url': 'https://i.scdn.co/image/8682a8bbb7f5802d7435ef1dc7abfada52ed0a25', 'height': 640}, {'width': 300, 'url': 'https://i.scdn.co/image/f3a0d3a98b63764f57290a2e68e527ef3fcfb456', 'height': 300}, {'width': 64, 'url': 'https://i.scdn.co/image/464da65122f6b9e46e77540216d1d27e461adb37', 'height': 64}], 'href': 'https://api.spotify.com/v1/albums/7DRvJhjucsH34zMXtEh0ER', 'uri': 'spotify:album:7DRvJhjucsH34zMXtEh0ER'}, 'duration_ms': 189475, 'available_markets': ['AD', 'AR', 'AT', 'AU', 'BE', 'BG', 'BO', 'BR', 'CA', 'CH', 'CL', 'CO', 'CR', 'CY', 'CZ', 'DE', 'DK', 'DO', 'EC', 'EE', 'ES', 'FI', 'FR', 'GB', 'GR', 'GT', 'HK', 'HN', 'HU', 'ID', 'IE', 'IS', 'IT', 'JP', 'LT', 'LU', 'LV', 'MC', 'MT', 'MY', 'NI', 'NL', 'NO', 'NZ', 'PA', 'PE', 'PH', 'PL', 'PT', 'PY', 'SE', 'SG', 'SK', 'SV', 'TR', 'TW', 'US', 'UY'], 'disc_number': 1, 'external_ids': {'isrc': 'USAT21401449'}, 'external_urls': {'spotify': 'https://open.spotify.com/track/5sF7hdYvhrcgNq8NZjfK8L'}, 'preview_url': 'https://p.scdn.co/mp3-preview/70de02a1b9bf21e9f34e3f4e0ad243ded4d0a543?cid=cba9273cc2784d68b10cab9a7f7a25e6', 'explicit': False}, {'artists': [{'type': 'artist', 'id': '2WX2uTcsvV5OnS0inACecP', 'name': 'Birdy', 'external_urls': {'spotify': 'https://open.spotify.com/artist/2WX2uTcsvV5OnS0inACecP'}, 'href': 'https://api.spotify.com/v1/artists/2WX2uTcsvV5OnS0inACecP', 'uri': 'spotify:artist:2WX2uTcsvV5OnS0inACecP'}], 'popularity': 69, 'track_number': 1, 'name': 'Tee Shirt', 'id': '3C5in0EVdoGepp5bA6lhlE', 'href': 'https://api.spotify.com/v1/tracks/3C5in0EVdoGepp5bA6lhlE', 'uri': 'spotify:track:3C5in0EVdoGepp5bA6lhlE', 'type': 'track', 'album': {'artists': [{'type': 'artist', 'id': '2WX2uTcsvV5OnS0inACecP', 'name': 'Birdy', 'external_urls': {'spotify': 'https://open.spotify.com/artist/2WX2uTcsvV5OnS0inACecP'}, 'href': 'https://api.spotify.com/v1/artists/2WX2uTcsvV5OnS0inACecP', 'uri': 'spotify:artist:2WX2uTcsvV5OnS0inACecP'}], 'id': '30xBAnEjl3nSDzp0qoiBUD', 'album_type': 'single', 'type': 'album', 'available_markets': ['AD', 'AR', 'AT', 'BE', 'BG', 'BO', 'BR', 'CA', 'CH', 'CL', 'CO', 'CR', 'CY', 'CZ', 'DE', 'DK', 'DO', 'EC', 'EE', 'ES', 'FI', 'FR', 'GB', 'GR', 'GT', 'HK', 'HN', 'HU', 'ID', 'IE', 'IS', 'IT', 'JP', 'LT', 'LU', 'LV', 'MC', 'MT', 'MY', 'NI', 'NL', 'NO', 'NZ', 'PA', 'PE', 'PH', 'PL', 'PT', 'PY', 'SE', 'SG', 'SK', 'SV', 'TR', 'TW', 'US', 'UY'], 'name': 'Tee Shirt', 'external_urls': {'spotify': 'https://open.spotify.com/album/30xBAnEjl3nSDzp0qoiBUD'}, 'images': [{'width': 640, 'url': 'https://i.scdn.co/image/0cc01448770170d566896144f3a2d7edd543a25d', 'height': 640}, {'width': 300, 'url': 'https://i.scdn.co/image/2290209f414dd1df9960604b484c607805a0e5c8', 'height': 300}, {'width': 64, 'url': 'https://i.scdn.co/image/3a91ce49bc85beefde3a5f40577f40330367e467', 'height': 64}], 'href': 'https://api.spotify.com/v1/albums/30xBAnEjl3nSDzp0qoiBUD', 'uri': 'spotify:album:30xBAnEjl3nSDzp0qoiBUD'}, 'duration_ms': 159506, 'available_markets': ['AD', 'AR', 'AT', 'BE', 'BG', 'BO', 'BR', 'CA', 'CH', 'CL', 'CO', 'CR', 'CY', 'CZ', 'DE', 'DK', 'DO', 'EC', 'EE', 'ES', 'FI', 'FR', 'GB', 'GR', 'GT', 'HK', 'HN', 'HU', 'ID', 'IE', 'IS', 'IT', 'JP', 'LT', 'LU', 'LV', 'MC', 'MT', 'MY', 'NI', 'NL', 'NO', 'NZ', 'PA', 'PE', 'PH', 'PL', 'PT', 'PY', 'SE', 'SG', 'SK', 'SV', 'TR', 'TW', 'US', 'UY'], 'disc_number': 1, 'external_ids': {'isrc': 'USAT21401440'}, 'external_urls': {'spotify': 'https://open.spotify.com/track/3C5in0EVdoGepp5bA6lhlE'}, 'preview_url': 'https://p.scdn.co/mp3-preview/6fccf47f5dde2b23f3f6a5303a99f6c65089828d?cid=cba9273cc2784d68b10cab9a7f7a25e6', 'explicit': False}, {'artists': [{'type': 'artist', 'id': '2WX2uTcsvV5OnS0inACecP', 'name': 'Birdy', 'external_urls': {'spotify': 'https://open.spotify.com/artist/2WX2uTcsvV5OnS0inACecP'}, 'href': 'https://api.spotify.com/v1/artists/2WX2uTcsvV5OnS0inACecP', 'uri': 'spotify:artist:2WX2uTcsvV5OnS0inACecP'}, {'type': 'artist', 'id': '20gsENnposVs2I4rQ5kvrf', 'name': 'Sam Feldt', 'external_urls': {'spotify': 'https://open.spotify.com/artist/20gsENnposVs2I4rQ5kvrf'}, 'href': 'https://api.spotify.com/v1/artists/20gsENnposVs2I4rQ5kvrf', 'uri': 'spotify:artist:20gsENnposVs2I4rQ5kvrf'}], 'popularity': 67, 'track_number': 1, 'name': 'Wild Horses - Sam Feldt Remix', 'id': '4tVybkClyH0hjL8jzMq3sH', 'href': 'https://api.spotify.com/v1/tracks/4tVybkClyH0hjL8jzMq3sH', 'uri': 'spotify:track:4tVybkClyH0hjL8jzMq3sH', 'type': 'track', 'album': {'artists': [{'type': 'artist', 'id': '2WX2uTcsvV5OnS0inACecP', 'name': 'Birdy', 'external_urls': {'spotify': 'https://open.spotify.com/artist/2WX2uTcsvV5OnS0inACecP'}, 'href': 'https://api.spotify.com/v1/artists/2WX2uTcsvV5OnS0inACecP', 'uri': 'spotify:artist:2WX2uTcsvV5OnS0inACecP'}], 'id': '3d87A6igaqKye3mC2N4WKF', 'album_type': 'single', 'type': 'album', 'available_markets': ['AD', 'AR', 'AT', 'AU', 'BE', 'BG', 'BO', 'BR', 'CA', 'CH', 'CL', 'CO', 'CR', 'CY', 'CZ', 'DE', 'DK', 'DO', 'EC', 'EE', 'ES', 'FI', 'FR', 'GB', 'GR', 'GT', 'HK', 'HN', 'HU', 'ID', 'IE', 'IS', 'IT', 'JP', 'LI', 'LT', 'LU', 'LV', 'MC', 'MT', 'MX', 'MY', 'NI', 'NL', 'NO', 'NZ', 'PA', 'PE', 'PH', 'PL', 'PT', 'PY', 'SE', 'SG', 'SK', 'SV', 'TR', 'TW', 'US', 'UY'], 'name': 'Wild Horses (Sam Feldt Remix)', 'external_urls': {'spotify': 'https://open.spotify.com/album/3d87A6igaqKye3mC2N4WKF'}, 'images': [{'width': 640, 'url': 'https://i.scdn.co/image/6df97c0a4da2eef2cf2533a82858d2c238eb5ee4', 'height': 640}, {'width': 300, 'url': 'https://i.scdn.co/image/04cd9c6f9d0d202630d4a1ec50851df564938ea7', 'height': 300}, {'width': 64, 'url': 'https://i.scdn.co/image/c78c79c4f1d34729cbb6c68661f6a95cc9bb5678', 'height': 64}], 'href': 'https://api.spotify.com/v1/albums/3d87A6igaqKye3mC2N4WKF', 'uri': 'spotify:album:3d87A6igaqKye3mC2N4WKF'}, 'duration_ms': 177023, 'available_markets': ['AD', 'AR', 'AT', 'AU', 'BE', 'BG', 'BO', 'BR', 'CA', 'CH', 'CL', 'CO', 'CR', 'CY', 'CZ', 'DE', 'DK', 'DO', 'EC', 'EE', 'ES', 'FI', 'FR', 'GB', 'GR', 'GT', 'HK', 'HN', 'HU', 'ID', 'IE', 'IS', 'IT', 'JP', 'LI', 'LT', 'LU', 'LV', 'MC', 'MT', 'MX', 'MY', 'NI', 'NL', 'NO', 'NZ', 'PA', 'PE', 'PH', 'PL', 'PT', 'PY', 'SE', 'SG', 'SK', 'SV', 'TR', 'TW', 'US', 'UY'], 'disc_number': 1, 'external_ids': {'isrc': 'GBAHS1600233'}, 'external_urls': {'spotify': 'https://open.spotify.com/track/4tVybkClyH0hjL8jzMq3sH'}, 'preview_url': 'https://p.scdn.co/mp3-preview/c493a65581bb1035a50724f7984416c5d79237c7?cid=cba9273cc2784d68b10cab9a7f7a25e6', 'explicit': False}, {'artists': [{'type': 'artist', 'id': '2WX2uTcsvV5OnS0inACecP', 'name': 'Birdy', 'external_urls': {'spotify': 'https://open.spotify.com/artist/2WX2uTcsvV5OnS0inACecP'}, 'href': 'https://api.spotify.com/v1/artists/2WX2uTcsvV5OnS0inACecP', 'uri': 'spotify:artist:2WX2uTcsvV5OnS0inACecP'}, {'type': 'artist', 'id': '1l2ekx5skC4gJH8djERwh1', 'name': 'Don Diablo', 'external_urls': {'spotify': 'https://open.spotify.com/artist/1l2ekx5skC4gJH8djERwh1'}, 'href': 'https://api.spotify.com/v1/artists/1l2ekx5skC4gJH8djERwh1', 'uri': 'spotify:artist:1l2ekx5skC4gJH8djERwh1'}], 'popularity': 66, 'track_number': 1, 'name': 'Keeping Your Head Up - Don Diablo Remix [Radio Edit]', 'id': '7KCXA4Y1gIGDSm388m9bW1', 'href': 'https://api.spotify.com/v1/tracks/7KCXA4Y1gIGDSm388m9bW1', 'uri': 'spotify:track:7KCXA4Y1gIGDSm388m9bW1', 'type': 'track', 'album': {'artists': [{'type': 'artist', 'id': '2WX2uTcsvV5OnS0inACecP', 'name': 'Birdy', 'external_urls': {'spotify': 'https://open.spotify.com/artist/2WX2uTcsvV5OnS0inACecP'}, 'href': 'https://api.spotify.com/v1/artists/2WX2uTcsvV5OnS0inACecP', 'uri': 'spotify:artist:2WX2uTcsvV5OnS0inACecP'}], 'id': '4259aAIAYsIhri9W5EgM3J', 'album_type': 'single', 'type': 'album', 'available_markets': ['AD', 'AR', 'AT', 'AU', 'BE', 'BG', 'BO', 'BR', 'CA', 'CH', 'CL', 'CO', 'CR', 'CY', 'CZ', 'DE', 'DK', 'DO', 'EC', 'EE', 'ES', 'FI', 'FR', 'GB', 'GR', 'GT', 'HK', 'HN', 'HU', 'ID', 'IE', 'IS', 'IT', 'JP', 'LI', 'LT', 'LU', 'LV', 'MC', 'MT', 'MX', 'MY', 'NI', 'NL', 'NO', 'NZ', 'PA', 'PE', 'PH', 'PL', 'PT', 'PY', 'SE', 'SG', 'SK', 'SV', 'TR', 'TW', 'US', 'UY'], 'name': 'Keeping Your Head Up (Don Diablo Remix [Radio Edit])', 'external_urls': {'spotify': 'https://open.spotify.com/album/4259aAIAYsIhri9W5EgM3J'}, 'images': [{'width': 640, 'url': 'https://i.scdn.co/image/c1a06cf9cc3997c31f9eaf0eb20bcd0441b3e5a5', 'height': 640}, {'width': 300, 'url': 'https://i.scdn.co/image/fe3231a54a8b800e01e26f01ca67690a767bb4b5', 'height': 300}, {'width': 64, 'url': 'https://i.scdn.co/image/434093d23db55a9ae011a43c8473f4d1c94289ca', 'height': 64}], 'href': 'https://api.spotify.com/v1/albums/4259aAIAYsIhri9W5EgM3J', 'uri': 'spotify:album:4259aAIAYsIhri9W5EgM3J'}, 'duration_ms': 207145, 'available_markets': ['AD', 'AR', 'AT', 'AU', 'BE', 'BG', 'BO', 'BR', 'CA', 'CH', 'CL', 'CO', 'CR', 'CY', 'CZ', 'DE', 'DK', 'DO', 'EC', 'EE', 'ES', 'FI', 'FR', 'GB', 'GR', 'GT', 'HK', 'HN', 'HU', 'ID', 'IE', 'IS', 'IT', 'JP', 'LI', 'LT', 'LU', 'LV', 'MC', 'MT', 'MX', 'MY', 'NI', 'NL', 'NO', 'NZ', 'PA', 'PE', 'PH', 'PL', 'PT', 'PY', 'SE', 'SG', 'SK', 'SV', 'TR', 'TW', 'US', 'UY'], 'disc_number': 1, 'external_ids': {'isrc': 'GBAHS1600040'}, 'external_urls': {'spotify': 'https://open.spotify.com/track/7KCXA4Y1gIGDSm388m9bW1'}, 'preview_url': 'https://p.scdn.co/mp3-preview/6af69d5a69aef870e0339f445ab5e9a92e29338e?cid=cba9273cc2784d68b10cab9a7f7a25e6', 'explicit': False}, {'artists': [{'type': 'artist', 'id': '2WX2uTcsvV5OnS0inACecP', 'name': 'Birdy', 'external_urls': {'spotify': 'https://open.spotify.com/artist/2WX2uTcsvV5OnS0inACecP'}, 'href': 'https://api.spotify.com/v1/artists/2WX2uTcsvV5OnS0inACecP', 'uri': 'spotify:artist:2WX2uTcsvV5OnS0inACecP'}], 'popularity': 66, 'track_number': 1, 'name': 'Ghost in the Wind', 'id': '66zI1g4FK5NW5tW0VhMhZX', 'href': 'https://api.spotify.com/v1/tracks/66zI1g4FK5NW5tW0VhMhZX', 'uri': 'spotify:track:66zI1g4FK5NW5tW0VhMhZX', 'type': 'track', 'album': {'artists': [{'type': 'artist', 'id': '2WX2uTcsvV5OnS0inACecP', 'name': 'Birdy', 'external_urls': {'spotify': 'https://open.spotify.com/artist/2WX2uTcsvV5OnS0inACecP'}, 'href': 'https://api.spotify.com/v1/artists/2WX2uTcsvV5OnS0inACecP', 'uri': 'spotify:artist:2WX2uTcsvV5OnS0inACecP'}], 'id': '1611TWYLJNq6MOBLm0VM9v', 'album_type': 'single', 'type': 'album', 'available_markets': ['AD', 'AR', 'AT', 'AU', 'BE', 'BG', 'BO', 'BR', 'CA', 'CH', 'CL', 'CO', 'CR', 'CY', 'CZ', 'DE', 'DK', 'DO', 'EC', 'EE', 'ES', 'FI', 'FR', 'GB', 'GR', 'GT', 'HK', 'HN', 'HU', 'ID', 'IE', 'IS', 'IT', 'JP', 'LI', 'LT', 'LU', 'LV', 'MC', 'MT', 'MX', 'MY', 'NI', 'NL', 'NO', 'NZ', 'PA', 'PE', 'PH', 'PL', 'PT', 'PY', 'SE', 'SG', 'SK', 'SV', 'TR', 'TW', 'US', 'UY'], 'name': 'Ghost in the Wind', 'external_urls': {'spotify': 'https://open.spotify.com/album/1611TWYLJNq6MOBLm0VM9v'}, 'images': [{'width': 640, 'url': 'https://i.scdn.co/image/43547bc6f8f5c76b07f43e6b7d357cf13cfca6ff', 'height': 640}, {'width': 300, 'url': 'https://i.scdn.co/image/b36b3dcf158e942a6b410652f037c7a21d614fca', 'height': 300}, {'width': 64, 'url': 'https://i.scdn.co/image/886d2bcb7c6bc8f16bc20941f09f3eb77412adc6', 'height': 64}], 'href': 'https://api.spotify.com/v1/albums/1611TWYLJNq6MOBLm0VM9v', 'uri': 'spotify:album:1611TWYLJNq6MOBLm0VM9v'}, 'duration_ms': 271053, 'available_markets': ['AD', 'AR', 'AT', 'AU', 'BE', 'BG', 'BO', 'BR', 'CA', 'CH', 'CL', 'CO', 'CR', 'CY', 'CZ', 'DE', 'DK', 'DO', 'EC', 'EE', 'ES', 'FI', 'FR', 'GB', 'GR', 'GT', 'HK', 'HN', 'HU', 'ID', 'IE', 'IS', 'IT', 'JP', 'LI', 'LT', 'LU', 'LV', 'MC', 'MT', 'MX', 'MY', 'NI', 'NL', 'NO', 'NZ', 'PA', 'PE', 'PH', 'PL', 'PT', 'PY', 'SE', 'SG', 'SK', 'SV', 'TR', 'TW', 'US', 'UY'], 'disc_number': 1, 'external_ids': {'isrc': 'GBAHS1600364'}, 'external_urls': {'spotify': 'https://open.spotify.com/track/66zI1g4FK5NW5tW0VhMhZX'}, 'preview_url': 'https://p.scdn.co/mp3-preview/eee7d1d699e2c7149083f53cdf3653bd25b5e505?cid=cba9273cc2784d68b10cab9a7f7a25e6', 'explicit': False}, {'artists': [{'type': 'artist', 'id': '2WX2uTcsvV5OnS0inACecP', 'name': 'Birdy', 'external_urls': {'spotify': 'https://open.spotify.com/artist/2WX2uTcsvV5OnS0inACecP'}, 'href': 'https://api.spotify.com/v1/artists/2WX2uTcsvV5OnS0inACecP', 'uri': 'spotify:artist:2WX2uTcsvV5OnS0inACecP'}], 'popularity': 66, 'track_number': 3, 'name': 'People Help The People', 'id': '0YywjDvFudcaHG74NuWISy', 'href': 'https://api.spotify.com/v1/tracks/0YywjDvFudcaHG74NuWISy', 'uri': 'spotify:track:0YywjDvFudcaHG74NuWISy', 'type': 'track', 'album': {'artists': [{'type': 'artist', 'id': '2WX2uTcsvV5OnS0inACecP', 'name': 'Birdy', 'external_urls': {'spotify': 'https://open.spotify.com/artist/2WX2uTcsvV5OnS0inACecP'}, 'href': 'https://api.spotify.com/v1/artists/2WX2uTcsvV5OnS0inACecP', 'uri': 'spotify:artist:2WX2uTcsvV5OnS0inACecP'}], 'id': '1WGjSVIw0TVfbp5KrOFiP0', 'album_type': 'album', 'type': 'album', 'available_markets': ['AR', 'AT', 'BE', 'BG', 'BO', 'BR', 'CH', 'CL', 'CO', 'CR', 'CZ', 'DE', 'DK', 'DO', 'EC', 'EE', 'FI', 'GR', 'GT', 'HK', 'HN', 'HU', 'ID', 'IE', 'IS', 'IT', 'JP', 'LT', 'LU', 'LV', 'MX', 'MY', 'NI', 'NL', 'NO', 'NZ', 'PA', 'PE', 'PH', 'PL', 'PY', 'SE', 'SG', 'SK', 'SV', 'TR', 'TW', 'US', 'UY'], 'name': 'Birdy', 'external_urls': {'spotify': 'https://open.spotify.com/album/1WGjSVIw0TVfbp5KrOFiP0'}, 'images': [{'width': 640, 'url': 'https://i.scdn.co/image/99916fd005d57c040ef5df8d8f66f74195588819', 'height': 640}, {'width': 300, 'url': 'https://i.scdn.co/image/79271a1f8b114c89be18003c60b7fbfc1d587d04', 'height': 300}, {'width': 64, 'url': 'https://i.scdn.co/image/806eac470054a9b8c2b0397c27a9c0a6d01f5494', 'height': 64}], 'href': 'https://api.spotify.com/v1/albums/1WGjSVIw0TVfbp5KrOFiP0', 'uri': 'spotify:album:1WGjSVIw0TVfbp5KrOFiP0'}, 'duration_ms': 256853, 'available_markets': ['AR', 'AT', 'BE', 'BG', 'BO', 'BR', 'CH', 'CL', 'CO', 'CR', 'CZ', 'DE', 'DK', 'DO', 'EC', 'EE', 'FI', 'GR', 'GT', 'HK', 'HN', 'HU', 'ID', 'IE', 'IS', 'IT', 'JP', 'LT', 'LU', 'LV', 'MX', 'MY', 'NI', 'NL', 'NO', 'NZ', 'PA', 'PE', 'PH', 'PL', 'PY', 'SE', 'SG', 'SK', 'SV', 'TR', 'TW', 'US', 'UY'], 'disc_number': 1, 'external_ids': {'isrc': 'GBAHS1100351'}, 'external_urls': {'spotify': 'https://open.spotify.com/track/0YywjDvFudcaHG74NuWISy'}, 'preview_url': 'https://p.scdn.co/mp3-preview/f4ca3ea54912a5e4b88bc7a61851b652f4be7dfa?cid=cba9273cc2784d68b10cab9a7f7a25e6', 'explicit': False}, {'artists': [{'type': 'artist', 'id': '2WX2uTcsvV5OnS0inACecP', 'name': 'Birdy', 'external_urls': {'spotify': 'https://open.spotify.com/artist/2WX2uTcsvV5OnS0inACecP'}, 'href': 'https://api.spotify.com/v1/artists/2WX2uTcsvV5OnS0inACecP', 'uri': 'spotify:artist:2WX2uTcsvV5OnS0inACecP'}], 'popularity': 63, 'track_number': 1, 'name': 'Wings', 'id': '2Kz5qeXifBxE0zmuoVchlM', 'href': 'https://api.spotify.com/v1/tracks/2Kz5qeXifBxE0zmuoVchlM', 'uri': 'spotify:track:2Kz5qeXifBxE0zmuoVchlM', 'type': 'track', 'album': {'artists': [{'type': 'artist', 'id': '2WX2uTcsvV5OnS0inACecP', 'name': 'Birdy', 'external_urls': {'spotify': 'https://open.spotify.com/artist/2WX2uTcsvV5OnS0inACecP'}, 'href': 'https://api.spotify.com/v1/artists/2WX2uTcsvV5OnS0inACecP', 'uri': 'spotify:artist:2WX2uTcsvV5OnS0inACecP'}], 'id': '6ig2k0oiH2AXm8MugikskB', 'album_type': 'album', 'type': 'album', 'available_markets': ['AD', 'AR', 'BE', 'BG', 'BO', 'BR', 'CL', 'CO', 'CR', 'CY', 'CZ', 'DK', 'DO', 'EC', 'EE', 'ES', 'FI', 'GB', 'GR', 'GT', 'HK', 'HN', 'HU', 'ID', 'IE', 'IS', 'IT', 'LT', 'LU', 'LV', 'MC', 'MT', 'MX', 'MY', 'NI', 'NL', 'NO', 'PA', 'PE', 'PH', 'PL', 'PT', 'PY', 'SE', 'SG', 'SK', 'SV', 'TR', 'TW', 'UY'], 'name': 'Fire Within (Deluxe)', 'external_urls': {'spotify': 'https://open.spotify.com/album/6ig2k0oiH2AXm8MugikskB'}, 'images': [{'width': 640, 'url': 'https://i.scdn.co/image/e73657341c846178db226e1bb4f209b54e2dd287', 'height': 640}, {'width': 300, 'url': 'https://i.scdn.co/image/a385977f0922bfc54af43c4bb2e044e759697868', 'height': 300}, {'width': 64, 'url': 'https://i.scdn.co/image/756052395456ed57040090b3bb94efe66729f78d', 'height': 64}], 'href': 'https://api.spotify.com/v1/albums/6ig2k0oiH2AXm8MugikskB', 'uri': 'spotify:album:6ig2k0oiH2AXm8MugikskB'}, 'duration_ms': 252106, 'available_markets': ['AD', 'AR', 'BE', 'BG', 'BO', 'BR', 'CL', 'CO', 'CR', 'CY', 'CZ', 'DK', 'DO', 'EC', 'EE', 'ES', 'FI', 'GB', 'GR', 'GT', 'HK', 'HN', 'HU', 'ID', 'IE', 'IS', 'IT', 'LT', 'LU', 'LV', 'MC', 'MT', 'MX', 'MY', 'NI', 'NL', 'NO', 'PA', 'PE', 'PH', 'PL', 'PT', 'PY', 'SE', 'SG', 'SK', 'SV', 'TR', 'TW', 'UY'], 'disc_number': 1, 'external_ids': {'isrc': 'GBAHS1300286'}, 'external_urls': {'spotify': 'https://open.spotify.com/track/2Kz5qeXifBxE0zmuoVchlM'}, 'preview_url': 'https://p.scdn.co/mp3-preview/b383277697465b1737ed511714764255eb97c42f?cid=cba9273cc2784d68b10cab9a7f7a25e6', 'explicit': False}, {'artists': [{'type': 'artist', 'id': '2WX2uTcsvV5OnS0inACecP', 'name': 'Birdy', 'external_urls': {'spotify': 'https://open.spotify.com/artist/2WX2uTcsvV5OnS0inACecP'}, 'href': 'https://api.spotify.com/v1/artists/2WX2uTcsvV5OnS0inACecP', 'uri': 'spotify:artist:2WX2uTcsvV5OnS0inACecP'}], 'popularity': 62, 'track_number': 3, 'name': 'Keeping Your Head Up', 'id': '5vuwXvQTpavYCgcPFnCMS4', 'href': 'https://api.spotify.com/v1/tracks/5vuwXvQTpavYCgcPFnCMS4', 'uri': 'spotify:track:5vuwXvQTpavYCgcPFnCMS4', 'type': 'track', 'album': {'artists': [{'type': 'artist', 'id': '2WX2uTcsvV5OnS0inACecP', 'name': 'Birdy', 'external_urls': {'spotify': 'https://open.spotify.com/artist/2WX2uTcsvV5OnS0inACecP'}, 'href': 'https://api.spotify.com/v1/artists/2WX2uTcsvV5OnS0inACecP', 'uri': 'spotify:artist:2WX2uTcsvV5OnS0inACecP'}], 'id': '2uNFpEVey5RsxzTdoDmjiz', 'album_type': 'album', 'type': 'album', 'available_markets': ['AD', 'AR', 'AU', 'BE', 'BG', 'BO', 'BR', 'CA', 'CL', 'CO', 'CR', 'CY', 'CZ', 'DK', 'DO', 'EC', 'EE', 'ES', 'FI', 'FR', 'GB', 'GR', 'GT', 'HK', 'HN', 'HU', 'ID', 'IE', 'IS', 'IT', 'JP', 'LI', 'LT', 'LU', 'LV', 'MC', 'MT', 'MX', 'MY', 'NI', 'NL', 'NO', 'NZ', 'PA', 'PE', 'PH', 'PL', 'PT', 'PY', 'SE', 'SG', 'SK', 'SV', 'TR', 'TW', 'UY'], 'name': 'Beautiful Lies (Deluxe)', 'external_urls': {'spotify': 'https://open.spotify.com/album/2uNFpEVey5RsxzTdoDmjiz'}, 'images': [{'width': 640, 'url': 'https://i.scdn.co/image/afd3acff8667727320318741201ef412a20ca473', 'height': 640}, {'width': 300, 'url': 'https://i.scdn.co/image/428b342a0fe84422864f4b145c7b88b01da1d7f0', 'height': 300}, {'width': 64, 'url': 'https://i.scdn.co/image/23aaddf639aeb3d7ad27581e06056ca61533e972', 'height': 64}], 'href': 'https://api.spotify.com/v1/albums/2uNFpEVey5RsxzTdoDmjiz', 'uri': 'spotify:album:2uNFpEVey5RsxzTdoDmjiz'}, 'duration_ms': 208395, 'available_markets': ['AD', 'AR', 'AU', 'BE', 'BG', 'BO', 'BR', 'CA', 'CL', 'CO', 'CR', 'CY', 'CZ', 'DK', 'DO', 'EC', 'EE', 'ES', 'FI', 'FR', 'GB', 'GR', 'GT', 'HK', 'HN', 'HU', 'ID', 'IE', 'IS', 'IT', 'JP', 'LI', 'LT', 'LU', 'LV', 'MC', 'MT', 'MX', 'MY', 'NI', 'NL', 'NO', 'NZ', 'PA', 'PE', 'PH', 'PL', 'PT', 'PY', 'SE', 'SG', 'SK', 'SV', 'TR', 'TW', 'UY'], 'disc_number': 1, 'external_ids': {'isrc': 'GBAHS1500572'}, 'external_urls': {'spotify': 'https://open.spotify.com/track/5vuwXvQTpavYCgcPFnCMS4'}, 'preview_url': 'https://p.scdn.co/mp3-preview/101bf12664989f8bae24506cc6daae3abef06382?cid=cba9273cc2784d68b10cab9a7f7a25e6', 'explicit': False}]}\n"
     ]
    }
   ],
   "source": [
    "'''example with finding a users albums... '''\n",
    "birdy_uri = 'spotify:artist:2WX2uTcsvV5OnS0inACecP' #try and make a function\n",
    "#that returns this 'uri' given artist name.\n",
    "\n",
    "results = sp.artist_top_tracks(birdy_uri, country = 'SE')\n",
    "#albums = results['items']\n",
    "print(results)\n",
    "\n",
    "#while results['next']:\n",
    "#    results = spotify.next(results)\n",
    "#    albums.extend(results['items'])\n",
    "\n",
    "#for album in albums:\n",
    "#    print(album['name'])"
   ]
  },
  {
   "cell_type": "code",
   "execution_count": 24,
   "metadata": {
    "collapsed": false
   },
   "outputs": [
    {
     "data": {
      "text/plain": [
       "'spotify:artist:6vWDO969PvNqNYHIOW5v0m'"
      ]
     },
     "execution_count": 24,
     "metadata": {},
     "output_type": "execute_result"
    }
   ],
   "source": [
    "''' \n",
    "luke i changed ur function down below the index 1 was wrong so i put it as  0 and it giving\n",
    "way better results, chur...\n",
    "'''\n",
    "def get_uri(artist):\n",
    "    results = sp.search(q = \"artist:\" + artist, type = \"artist\")\n",
    "    artist_id = results['artists']['items'][0]['uri'] # changed from '1' to '0' ??\n",
    "   \n",
    "    return(artist_id)\n",
    "\n",
    "get_uri(\"Beyonce\")\n",
    "#A function that returns artist 'uri' as a string. \n",
    "#By most matching (first result)"
   ]
  },
  {
   "cell_type": "code",
   "execution_count": 54,
   "metadata": {
    "collapsed": false
   },
   "outputs": [
    {
     "data": {
      "text/plain": [
       "{'categories': {'href': 'https://api.spotify.com/v1/browse/categories?offset=0&limit=20',\n",
       "  'items': [{'href': 'https://api.spotify.com/v1/browse/categories/toplists',\n",
       "    'icons': [{'height': 275,\n",
       "      'url': 'https://t.scdn.co/media/derived/toplists_11160599e6a04ac5d6f2757f5511778f_0_0_275_275.jpg',\n",
       "      'width': 275}],\n",
       "    'id': 'toplists',\n",
       "    'name': 'Top Lists'},\n",
       "   {'href': 'https://api.spotify.com/v1/browse/categories/mood',\n",
       "    'icons': [{'height': 274,\n",
       "      'url': 'https://t.scdn.co/media/original/mood-274x274_976986a31ac8c49794cbdc7246fd5ad7_274x274.jpg',\n",
       "      'width': 274}],\n",
       "    'id': 'mood',\n",
       "    'name': 'Mood'},\n",
       "   {'href': 'https://api.spotify.com/v1/browse/categories/party',\n",
       "    'icons': [{'height': 274,\n",
       "      'url': 'https://t.scdn.co/media/links/partyicon_274x274.jpg',\n",
       "      'width': 274}],\n",
       "    'id': 'party',\n",
       "    'name': 'Party'},\n",
       "   {'href': 'https://api.spotify.com/v1/browse/categories/pop',\n",
       "    'icons': [{'height': 274,\n",
       "      'url': 'https://t.scdn.co/media/derived/pop-274x274_447148649685019f5e2a03a39e78ba52_0_0_274_274.jpg',\n",
       "      'width': 274}],\n",
       "    'id': 'pop',\n",
       "    'name': 'Pop'},\n",
       "   {'href': 'https://api.spotify.com/v1/browse/categories/popculture',\n",
       "    'icons': [{'height': 274,\n",
       "      'url': 'https://t.scdn.co/media/derived/trending-274x274_7b238f7217985e79d3664f2734347b98_0_0_274_274.jpg',\n",
       "      'width': 274}],\n",
       "    'id': 'popculture',\n",
       "    'name': 'Trending'},\n",
       "   {'href': 'https://api.spotify.com/v1/browse/categories/focus',\n",
       "    'icons': [{'height': 274,\n",
       "      'url': 'https://t.scdn.co/media/original/genre-images-square-274x274_5e50d72b846a198fcd2ca9b3aef5f0c8_274x274.jpg',\n",
       "      'width': 274}],\n",
       "    'id': 'focus',\n",
       "    'name': 'Focus'},\n",
       "   {'href': 'https://api.spotify.com/v1/browse/categories/rock',\n",
       "    'icons': [{'height': 274,\n",
       "      'url': 'https://t.scdn.co/media/derived/rock_9ce79e0a4ef901bbd10494f5b855d3cc_0_0_274_274.jpg',\n",
       "      'width': 274}],\n",
       "    'id': 'rock',\n",
       "    'name': 'Rock'},\n",
       "   {'href': 'https://api.spotify.com/v1/browse/categories/indie_alt',\n",
       "    'icons': [{'height': 274,\n",
       "      'url': 'https://t.scdn.co/media/derived/indie-274x274_add35b2b767ff7f3897262ad86809bdb_0_0_274_274.jpg',\n",
       "      'width': 274}],\n",
       "    'id': 'indie_alt',\n",
       "    'name': 'Indie'},\n",
       "   {'href': 'https://api.spotify.com/v1/browse/categories/edm_dance',\n",
       "    'icons': [{'height': 274,\n",
       "      'url': 'https://t.scdn.co/media/derived/edm-274x274_0ef612604200a9c14995432994455a6d_0_0_274_274.jpg',\n",
       "      'width': 274}],\n",
       "    'id': 'edm_dance',\n",
       "    'name': 'EDM/Dance'},\n",
       "   {'href': 'https://api.spotify.com/v1/browse/categories/chill',\n",
       "    'icons': [{'height': 274,\n",
       "      'url': 'https://t.scdn.co/media/derived/chill-274x274_4c46374f007813dd10b37e8d8fd35b4b_0_0_274_274.jpg',\n",
       "      'width': 274}],\n",
       "    'id': 'chill',\n",
       "    'name': 'Chill'},\n",
       "   {'href': 'https://api.spotify.com/v1/browse/categories/dinner',\n",
       "    'icons': [{'height': 274,\n",
       "      'url': 'https://t.scdn.co/media/original/dinner_1b6506abba0ba52c54e6d695c8571078_274x274.jpg',\n",
       "      'width': 274}],\n",
       "    'id': 'dinner',\n",
       "    'name': 'Dinner'},\n",
       "   {'href': 'https://api.spotify.com/v1/browse/categories/sleep',\n",
       "    'icons': [{'height': 274,\n",
       "      'url': 'https://t.scdn.co/media/derived/sleep-274x274_0d4f836af8fab7bf31526968073e671c_0_0_274_274.jpg',\n",
       "      'width': 274}],\n",
       "    'id': 'sleep',\n",
       "    'name': 'Sleep'},\n",
       "   {'href': 'https://api.spotify.com/v1/browse/categories/hiphop',\n",
       "    'icons': [{'height': 274,\n",
       "      'url': 'https://t.scdn.co/media/original/hip-274_0a661854d61e29eace5fe63f73495e68_274x274.jpg',\n",
       "      'width': 274}],\n",
       "    'id': 'hiphop',\n",
       "    'name': 'Hip Hop'},\n",
       "   {'href': 'https://api.spotify.com/v1/browse/categories/workout',\n",
       "    'icons': [{'height': None,\n",
       "      'url': 'https://t.scdn.co/media/links/workout-274x274.jpg',\n",
       "      'width': None}],\n",
       "    'id': 'workout',\n",
       "    'name': 'Workout'},\n",
       "   {'href': 'https://api.spotify.com/v1/browse/categories/rnb',\n",
       "    'icons': [{'height': 274,\n",
       "      'url': 'https://t.scdn.co/media/derived/r-b-274x274_fd56efa72f4f63764b011b68121581d8_0_0_274_274.jpg',\n",
       "      'width': 274}],\n",
       "    'id': 'rnb',\n",
       "    'name': 'RnB'},\n",
       "   {'href': 'https://api.spotify.com/v1/browse/categories/country',\n",
       "    'icons': [{'height': 274,\n",
       "      'url': 'https://t.scdn.co/media/derived/icon-274x274_6a35972b380f65dc348e0c798fe626a4_0_0_274_274.jpg',\n",
       "      'width': 274}],\n",
       "    'id': 'country',\n",
       "    'name': 'Country'},\n",
       "   {'href': 'https://api.spotify.com/v1/browse/categories/folk_americana',\n",
       "    'icons': [{'height': 274,\n",
       "      'url': 'https://t.scdn.co/media/derived/folk-274x274_ced3f75528ac61faf505863f7d7fae64_0_0_274_274.jpg',\n",
       "      'width': 274}],\n",
       "    'id': 'folk_americana',\n",
       "    'name': 'Folk & Americana'},\n",
       "   {'href': 'https://api.spotify.com/v1/browse/categories/metal',\n",
       "    'icons': [{'height': 274,\n",
       "      'url': 'https://t.scdn.co/media/original/metal_27c921443fd0a5ba95b1b2c2ae654b2b_274x274.jpg',\n",
       "      'width': 274}],\n",
       "    'id': 'metal',\n",
       "    'name': 'Metal'},\n",
       "   {'href': 'https://api.spotify.com/v1/browse/categories/soul',\n",
       "    'icons': [{'height': 274,\n",
       "      'url': 'https://t.scdn.co/media/derived/soul-274x274_266bc900b35dda8956380cffc73a4d8c_0_0_274_274.jpg',\n",
       "      'width': 274}],\n",
       "    'id': 'soul',\n",
       "    'name': 'Soul'},\n",
       "   {'href': 'https://api.spotify.com/v1/browse/categories/travel',\n",
       "    'icons': [{'height': 274,\n",
       "      'url': 'https://t.scdn.co/media/derived/travel-274x274_1e89cd5b42cf8bd2ff8fc4fb26f2e955_0_0_274_274.jpg',\n",
       "      'width': 274}],\n",
       "    'id': 'travel',\n",
       "    'name': 'Travel'}],\n",
       "  'limit': 20,\n",
       "  'next': 'https://api.spotify.com/v1/browse/categories?offset=20&limit=20',\n",
       "  'offset': 0,\n",
       "  'previous': None,\n",
       "  'total': 33}}"
      ]
     },
     "execution_count": 54,
     "metadata": {},
     "output_type": "execute_result"
    }
   ],
   "source": [
    "sp.categories()"
   ]
  },
  {
   "cell_type": "code",
   "execution_count": 51,
   "metadata": {
    "collapsed": false
   },
   "outputs": [
    {
     "name": "stdout",
     "output_type": "stream",
     "text": [
      "[{'track_href': 'https://api.spotify.com/v1/tracks/4RL77hMWUq35NYnPLXBpih', 'tempo': 166.467, 'speechiness': 0.051, 'type': 'audio_features', 'mode': 1, 'analysis_url': 'https://api.spotify.com/v1/audio-analysis/4RL77hMWUq35NYnPLXBpih', 'duration_ms': 201080, 'id': '4RL77hMWUq35NYnPLXBpih', 'energy': 0.29, 'time_signature': 4, 'loudness': -8.485, 'liveness': 0.118, 'danceability': 0.379, 'acousticness': 0.952, 'uri': 'spotify:track:4RL77hMWUq35NYnPLXBpih', 'key': 4, 'valence': 0.176, 'instrumentalness': 0.00106}]\n"
     ]
    }
   ],
   "source": [
    "''' lets try get related song '''\n",
    "\n",
    "artst = 'Young Thug'\n",
    "\n",
    "# get audio analysis of SP track skinny love...\n",
    "related = sp.audio_features('spotify:track:4RL77hMWUq35NYnPLXBpih')\n",
    "\n",
    "print(related)\n",
    "#for artist in related['artists']:\n",
    "    #print('  ', artist['name'])\n",
    "    #print('  ', artist['popularity'])\n",
    "    #print('  ', artist['followers']['total'])\n",
    "\n"
   ]
  },
  {
   "cell_type": "code",
   "execution_count": 33,
   "metadata": {
    "collapsed": true
   },
   "outputs": [],
   "source": [
    "def related_artists(name):\n",
    "    related = sp.artist_related_artists(get_uri(name))\n",
    "    rels = []\n",
    "    for artist in related['artists']:\n",
    "        rels.append(artist['name'])\n",
    "    return(rels)\n",
    "\n",
    "\n",
    "def next_artist(artist, artists = []):\n",
    "    ''' artists is the storage of past people that have been in there'''\n",
    "    RelatedArtists = related_artists(artist)\n",
    "    relates = [] # empty list to append with future \n",
    "    \n",
    "    for i in RelatedArtists:\n",
    "        relates.append(related_artists(i) )\n",
    "    \n",
    "    # create a bag of words - to index each artist in:\n",
    "    \n",
    "    BOW = np.unique(relates).flatten() \n",
    "    vecs = np.zeros((len(relates), len(BOW)))  # unique artists as columns...\n",
    "\n",
    "    for i in range(len(relates)):\n",
    "        # turn each into a vector of 0 and 1\n",
    "        for art in relates[i]:\n",
    "            # this loops over each artist:\n",
    "            idx = np.where(BOW == art)[0][0]\n",
    "            # set that idx number = to 1\n",
    "            vecs[i,idx] = 1\n",
    "    \n",
    "    \n",
    "    # then calculate cosine similarity and select the lowest similarity artist and print them\n",
    "    sims = np.zeros((len(relates),len(relates)))\n",
    "    sim_means = []\n",
    "    for i in range(len(vecs)):\n",
    "        # loop over each vector\n",
    "        for j in range(len(vecs)):\n",
    "            # do this again because you want to get similarity between each matrix...\n",
    "            sims[i,j] = 1 - spatial.distance.cosine(vecs[i],vecs[j])\n",
    "        # calculate row wise means:\n",
    "        sim_means.append(np.var(sims[i] ))\n",
    "    \n",
    "    # find the lowest scoring similarity artist\n",
    "    lowest_idx = np.where(sim_means == max(sim_means) )[0][0]\n",
    "    #print(lowest_idx)\n",
    "    # return artists name:\n",
    "    \n",
    "\n",
    "    #if (RelatedArtists[lowest_idx] in artists) == True :\n",
    "    # do the process again...\n",
    "    \n",
    "    \n",
    "    print(RelatedArtists[lowest_idx])\n",
    "    \n",
    "    \n",
    "    return(RelatedArtists[lowest_idx])"
   ]
  },
  {
   "cell_type": "code",
   "execution_count": 44,
   "metadata": {
    "collapsed": false
   },
   "outputs": [
    {
     "name": "stdout",
     "output_type": "stream",
     "text": [
      "White Lion\n"
     ]
    },
    {
     "data": {
      "text/plain": [
       "'White Lion'"
      ]
     },
     "execution_count": 44,
     "metadata": {},
     "output_type": "execute_result"
    }
   ],
   "source": [
    "next_artist('Firehouse')"
   ]
  },
  {
   "cell_type": "code",
   "execution_count": null,
   "metadata": {
    "collapsed": true
   },
   "outputs": [],
   "source": []
  }
 ],
 "metadata": {
  "anaconda-cloud": {},
  "kernelspec": {
   "display_name": "Python [Root]",
   "language": "python",
   "name": "Python [Root]"
  },
  "language_info": {
   "codemirror_mode": {
    "name": "ipython",
    "version": 3
   },
   "file_extension": ".py",
   "mimetype": "text/x-python",
   "name": "python",
   "nbconvert_exporter": "python",
   "pygments_lexer": "ipython3",
   "version": "3.5.2"
  }
 },
 "nbformat": 4,
 "nbformat_minor": 0
}
