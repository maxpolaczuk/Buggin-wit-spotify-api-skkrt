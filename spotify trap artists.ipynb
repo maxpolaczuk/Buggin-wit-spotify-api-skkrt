{
 "cells": [
  {
   "cell_type": "markdown",
   "metadata": {},
   "source": [
    "# Playing around with the Spotify API"
   ]
  },
  {
   "cell_type": "code",
   "execution_count": 1,
   "metadata": {
    "collapsed": false
   },
   "outputs": [
    {
     "name": "stderr",
     "output_type": "stream",
     "text": [
      "Using TensorFlow backend.\n"
     ]
    }
   ],
   "source": [
    "import pandas as pd\n",
    "import numpy as np\n",
    "import os\n",
    "import sys\n",
    "import spotipy\n",
    "import keras\n",
    "from keras.models import Sequential\n",
    "from keras.layers import Dense, Activation\n",
    "from spotipy.oauth2 import SpotifyClientCredentials\n",
    "import spotipy.util as util\n",
    "\n",
    "from scipy import spatial"
   ]
  },
  {
   "cell_type": "code",
   "execution_count": 2,
   "metadata": {
    "collapsed": false
   },
   "outputs": [],
   "source": [
    "\n",

    "\n"

   ]
  },
  {
   "cell_type": "code",
   "execution_count": 5,
   "metadata": {
    "collapsed": false
   },
   "outputs": [
    {
     "name": "stdout",
     "output_type": "stream",
     "text": [
      "\n",
      "\n",
      "            User authentication requires interaction with your\n",
      "            web browser. Once you enter your credentials and\n",
      "            give authorization, you will be redirected to\n",
      "            a url.  Paste that url you were directed to to\n",
      "            complete the authorization.\n",
      "\n",
      "        \n"

     ]
    }
   ],
   "source": [
    "'''\n",
    "define the API connection - usually log in from here as well...\n",
    "'''\n",
    "token = util.prompt_for_user_token('', '')\n",
    "\n",
    "client_credentials_manager = SpotifyClientCredentials()\n",
    "sp = spotipy.Spotify(client_credentials_manager=client_credentials_manager)\n",
    "\n",
    "\n",
    "#spotify=spotipy.Spotify()\n"
   ]
  },
  {
   "cell_type": "code",
   "execution_count": 6,
   "metadata": {
    "collapsed": false
   },
   "outputs": [
    {
     "name": "stdout",
     "output_type": "stream",
     "text": [
      "{'tracks': [{'popularity': 78, 'artists': [{'uri': 'spotify:artist:2WX2uTcsvV5OnS0inACecP', 'href': 'https://api.spotify.com/v1/artists/2WX2uTcsvV5OnS0inACecP', 'type': 'artist', 'external_urls': {'spotify': 'https://open.spotify.com/artist/2WX2uTcsvV5OnS0inACecP'}, 'name': 'Birdy', 'id': '2WX2uTcsvV5OnS0inACecP'}], 'external_ids': {'isrc': 'GBAHS1100350'}, 'duration_ms': 201080, 'href': 'https://api.spotify.com/v1/tracks/4RL77hMWUq35NYnPLXBpih', 'album': {'id': '1WGjSVIw0TVfbp5KrOFiP0', 'artists': [{'uri': 'spotify:artist:2WX2uTcsvV5OnS0inACecP', 'href': 'https://api.spotify.com/v1/artists/2WX2uTcsvV5OnS0inACecP', 'type': 'artist', 'external_urls': {'spotify': 'https://open.spotify.com/artist/2WX2uTcsvV5OnS0inACecP'}, 'name': 'Birdy', 'id': '2WX2uTcsvV5OnS0inACecP'}], 'available_markets': ['AR', 'AT', 'BE', 'BG', 'BO', 'BR', 'CH', 'CL', 'CO', 'CR', 'CZ', 'DE', 'DK', 'DO', 'EC', 'EE', 'FI', 'GR', 'GT', 'HK', 'HN', 'HU', 'ID', 'IE', 'IS', 'IT', 'JP', 'LT', 'LU', 'LV', 'MX', 'MY', 'NI', 'NL', 'NO', 'NZ', 'PA', 'PE', 'PH', 'PL', 'PY', 'SE', 'SG', 'SK', 'SV', 'TR', 'TW', 'US', 'UY'], 'href': 'https://api.spotify.com/v1/albums/1WGjSVIw0TVfbp5KrOFiP0', 'images': [{'width': 640, 'height': 640, 'url': 'https://i.scdn.co/image/99916fd005d57c040ef5df8d8f66f74195588819'}, {'width': 300, 'height': 300, 'url': 'https://i.scdn.co/image/79271a1f8b114c89be18003c60b7fbfc1d587d04'}, {'width': 64, 'height': 64, 'url': 'https://i.scdn.co/image/806eac470054a9b8c2b0397c27a9c0a6d01f5494'}], 'type': 'album', 'uri': 'spotify:album:1WGjSVIw0TVfbp5KrOFiP0', 'external_urls': {'spotify': 'https://open.spotify.com/album/1WGjSVIw0TVfbp5KrOFiP0'}, 'name': 'Birdy', 'album_type': 'album'}, 'preview_url': 'https://p.scdn.co/mp3-preview/fa2ee949327d85e7bd22385f00737744ebf87d60?cid=cba9273cc2784d68b10cab9a7f7a25e6', 'disc_number': 1, 'available_markets': ['AR', 'AT', 'BE', 'BG', 'BO', 'BR', 'CH', 'CL', 'CO', 'CR', 'CZ', 'DE', 'DK', 'DO', 'EC', 'EE', 'FI', 'GR', 'GT', 'HK', 'HN', 'HU', 'ID', 'IE', 'IS', 'IT', 'JP', 'LT', 'LU', 'LV', 'MX', 'MY', 'NI', 'NL', 'NO', 'NZ', 'PA', 'PE', 'PH', 'PL', 'PY', 'SE', 'SG', 'SK', 'SV', 'TR', 'TW', 'US', 'UY'], 'track_number': 2, 'type': 'track', 'uri': 'spotify:track:4RL77hMWUq35NYnPLXBpih', 'id': '4RL77hMWUq35NYnPLXBpih', 'name': 'Skinny Love', 'external_urls': {'spotify': 'https://open.spotify.com/track/4RL77hMWUq35NYnPLXBpih'}, 'explicit': False}, {'popularity': 72, 'artists': [{'uri': 'spotify:artist:2WX2uTcsvV5OnS0inACecP', 'href': 'https://api.spotify.com/v1/artists/2WX2uTcsvV5OnS0inACecP', 'type': 'artist', 'external_urls': {'spotify': 'https://open.spotify.com/artist/2WX2uTcsvV5OnS0inACecP'}, 'name': 'Birdy', 'id': '2WX2uTcsvV5OnS0inACecP'}, {'uri': 'spotify:artist:07FfkbljNIdl45Ijlh1aXS', 'href': 'https://api.spotify.com/v1/artists/07FfkbljNIdl45Ijlh1aXS', 'type': 'artist', 'external_urls': {'spotify': 'https://open.spotify.com/artist/07FfkbljNIdl45Ijlh1aXS'}, 'name': 'RHODES', 'id': '07FfkbljNIdl45Ijlh1aXS'}], 'external_ids': {'isrc': 'GBAHS1500362'}, 'duration_ms': 280757, 'href': 'https://api.spotify.com/v1/tracks/70K0ezmzYEZeqoSaZMyP7o', 'album': {'id': '70kdvnoDEA1srIsofErTEw', 'artists': [{'uri': 'spotify:artist:2WX2uTcsvV5OnS0inACecP', 'href': 'https://api.spotify.com/v1/artists/2WX2uTcsvV5OnS0inACecP', 'type': 'artist', 'external_urls': {'spotify': 'https://open.spotify.com/artist/2WX2uTcsvV5OnS0inACecP'}, 'name': 'Birdy', 'id': '2WX2uTcsvV5OnS0inACecP'}, {'uri': 'spotify:artist:07FfkbljNIdl45Ijlh1aXS', 'href': 'https://api.spotify.com/v1/artists/07FfkbljNIdl45Ijlh1aXS', 'type': 'artist', 'external_urls': {'spotify': 'https://open.spotify.com/artist/07FfkbljNIdl45Ijlh1aXS'}, 'name': 'RHODES', 'id': '07FfkbljNIdl45Ijlh1aXS'}], 'available_markets': ['AD', 'AR', 'AT', 'BE', 'BG', 'BO', 'BR', 'CA', 'CH', 'CL', 'CO', 'CR', 'CY', 'CZ', 'DE', 'DK', 'DO', 'EC', 'EE', 'ES', 'FI', 'FR', 'GB', 'GR', 'GT', 'HK', 'HN', 'HU', 'ID', 'IE', 'IS', 'IT', 'JP', 'LI', 'LT', 'LU', 'LV', 'MC', 'MT', 'MX', 'MY', 'NI', 'NL', 'NO', 'NZ', 'PA', 'PE', 'PH', 'PL', 'PT', 'PY', 'SE', 'SG', 'SK', 'SV', 'TR', 'TW', 'US', 'UY'], 'href': 'https://api.spotify.com/v1/albums/70kdvnoDEA1srIsofErTEw', 'images': [{'width': 640, 'height': 640, 'url': 'https://i.scdn.co/image/cb77cf2ac14d1bc2251696c9aa1d85426ec04a5a'}, {'width': 300, 'height': 300, 'url': 'https://i.scdn.co/image/6bb05a8405608f36c681be90b1ca9d417a344e9a'}, {'width': 64, 'height': 64, 'url': 'https://i.scdn.co/image/7e92932997525399f88de139bb823330d824d59c'}], 'type': 'album', 'uri': 'spotify:album:70kdvnoDEA1srIsofErTEw', 'external_urls': {'spotify': 'https://open.spotify.com/album/70kdvnoDEA1srIsofErTEw'}, 'name': 'Let It All Go', 'album_type': 'single'}, 'preview_url': 'https://p.scdn.co/mp3-preview/8ec4cec52d5a1acab8a572e5ab83613526faeef1?cid=cba9273cc2784d68b10cab9a7f7a25e6', 'disc_number': 1, 'available_markets': ['AD', 'AR', 'AT', 'BE', 'BG', 'BO', 'BR', 'CA', 'CH', 'CL', 'CO', 'CR', 'CY', 'CZ', 'DE', 'DK', 'DO', 'EC', 'EE', 'ES', 'FI', 'FR', 'GB', 'GR', 'GT', 'HK', 'HN', 'HU', 'ID', 'IE', 'IS', 'IT', 'JP', 'LI', 'LT', 'LU', 'LV', 'MC', 'MT', 'MX', 'MY', 'NI', 'NL', 'NO', 'NZ', 'PA', 'PE', 'PH', 'PL', 'PT', 'PY', 'SE', 'SG', 'SK', 'SV', 'TR', 'TW', 'US', 'UY'], 'track_number': 1, 'type': 'track', 'uri': 'spotify:track:70K0ezmzYEZeqoSaZMyP7o', 'id': '70K0ezmzYEZeqoSaZMyP7o', 'name': 'Let It All Go', 'external_urls': {'spotify': 'https://open.spotify.com/track/70K0ezmzYEZeqoSaZMyP7o'}, 'explicit': False}, {'popularity': 69, 'artists': [{'uri': 'spotify:artist:2WX2uTcsvV5OnS0inACecP', 'href': 'https://api.spotify.com/v1/artists/2WX2uTcsvV5OnS0inACecP', 'type': 'artist', 'external_urls': {'spotify': 'https://open.spotify.com/artist/2WX2uTcsvV5OnS0inACecP'}, 'name': 'Birdy', 'id': '2WX2uTcsvV5OnS0inACecP'}], 'external_ids': {'isrc': 'USAT21401449'}, 'duration_ms': 189475, 'href': 'https://api.spotify.com/v1/tracks/5sF7hdYvhrcgNq8NZjfK8L', 'album': {'id': '7DRvJhjucsH34zMXtEh0ER', 'artists': [{'uri': 'spotify:artist:2WX2uTcsvV5OnS0inACecP', 'href': 'https://api.spotify.com/v1/artists/2WX2uTcsvV5OnS0inACecP', 'type': 'artist', 'external_urls': {'spotify': 'https://open.spotify.com/artist/2WX2uTcsvV5OnS0inACecP'}, 'name': 'Birdy', 'id': '2WX2uTcsvV5OnS0inACecP'}], 'available_markets': ['AD', 'AR', 'AT', 'AU', 'BE', 'BG', 'BO', 'BR', 'CA', 'CH', 'CL', 'CO', 'CR', 'CY', 'CZ', 'DE', 'DK', 'DO', 'EC', 'EE', 'ES', 'FI', 'FR', 'GB', 'GR', 'GT', 'HK', 'HN', 'HU', 'ID', 'IE', 'IS', 'IT', 'JP', 'LT', 'LU', 'LV', 'MC', 'MT', 'MY', 'NI', 'NL', 'NO', 'NZ', 'PA', 'PE', 'PH', 'PL', 'PT', 'PY', 'SE', 'SG', 'SK', 'SV', 'TR', 'TW', 'US', 'UY'], 'href': 'https://api.spotify.com/v1/albums/7DRvJhjucsH34zMXtEh0ER', 'images': [{'width': 640, 'height': 640, 'url': 'https://i.scdn.co/image/8682a8bbb7f5802d7435ef1dc7abfada52ed0a25'}, {'width': 300, 'height': 300, 'url': 'https://i.scdn.co/image/f3a0d3a98b63764f57290a2e68e527ef3fcfb456'}, {'width': 64, 'height': 64, 'url': 'https://i.scdn.co/image/464da65122f6b9e46e77540216d1d27e461adb37'}], 'type': 'album', 'uri': 'spotify:album:7DRvJhjucsH34zMXtEh0ER', 'external_urls': {'spotify': 'https://open.spotify.com/album/7DRvJhjucsH34zMXtEh0ER'}, 'name': 'Not About Angels', 'album_type': 'single'}, 'preview_url': 'https://p.scdn.co/mp3-preview/70de02a1b9bf21e9f34e3f4e0ad243ded4d0a543?cid=cba9273cc2784d68b10cab9a7f7a25e6', 'disc_number': 1, 'available_markets': ['AD', 'AR', 'AT', 'AU', 'BE', 'BG', 'BO', 'BR', 'CA', 'CH', 'CL', 'CO', 'CR', 'CY', 'CZ', 'DE', 'DK', 'DO', 'EC', 'EE', 'ES', 'FI', 'FR', 'GB', 'GR', 'GT', 'HK', 'HN', 'HU', 'ID', 'IE', 'IS', 'IT', 'JP', 'LT', 'LU', 'LV', 'MC', 'MT', 'MY', 'NI', 'NL', 'NO', 'NZ', 'PA', 'PE', 'PH', 'PL', 'PT', 'PY', 'SE', 'SG', 'SK', 'SV', 'TR', 'TW', 'US', 'UY'], 'track_number': 1, 'type': 'track', 'uri': 'spotify:track:5sF7hdYvhrcgNq8NZjfK8L', 'id': '5sF7hdYvhrcgNq8NZjfK8L', 'name': 'Not About Angels', 'external_urls': {'spotify': 'https://open.spotify.com/track/5sF7hdYvhrcgNq8NZjfK8L'}, 'explicit': False}, {'popularity': 69, 'artists': [{'uri': 'spotify:artist:2WX2uTcsvV5OnS0inACecP', 'href': 'https://api.spotify.com/v1/artists/2WX2uTcsvV5OnS0inACecP', 'type': 'artist', 'external_urls': {'spotify': 'https://open.spotify.com/artist/2WX2uTcsvV5OnS0inACecP'}, 'name': 'Birdy', 'id': '2WX2uTcsvV5OnS0inACecP'}], 'external_ids': {'isrc': 'USAT21401440'}, 'duration_ms': 159506, 'href': 'https://api.spotify.com/v1/tracks/3C5in0EVdoGepp5bA6lhlE', 'album': {'id': '30xBAnEjl3nSDzp0qoiBUD', 'artists': [{'uri': 'spotify:artist:2WX2uTcsvV5OnS0inACecP', 'href': 'https://api.spotify.com/v1/artists/2WX2uTcsvV5OnS0inACecP', 'type': 'artist', 'external_urls': {'spotify': 'https://open.spotify.com/artist/2WX2uTcsvV5OnS0inACecP'}, 'name': 'Birdy', 'id': '2WX2uTcsvV5OnS0inACecP'}], 'available_markets': ['AD', 'AR', 'AT', 'BE', 'BG', 'BO', 'BR', 'CA', 'CH', 'CL', 'CO', 'CR', 'CY', 'CZ', 'DE', 'DK', 'DO', 'EC', 'EE', 'ES', 'FI', 'FR', 'GB', 'GR', 'GT', 'HK', 'HN', 'HU', 'ID', 'IE', 'IS', 'IT', 'JP', 'LT', 'LU', 'LV', 'MC', 'MT', 'MY', 'NI', 'NL', 'NO', 'NZ', 'PA', 'PE', 'PH', 'PL', 'PT', 'PY', 'SE', 'SG', 'SK', 'SV', 'TR', 'TW', 'US', 'UY'], 'href': 'https://api.spotify.com/v1/albums/30xBAnEjl3nSDzp0qoiBUD', 'images': [{'width': 640, 'height': 640, 'url': 'https://i.scdn.co/image/0cc01448770170d566896144f3a2d7edd543a25d'}, {'width': 300, 'height': 300, 'url': 'https://i.scdn.co/image/2290209f414dd1df9960604b484c607805a0e5c8'}, {'width': 64, 'height': 64, 'url': 'https://i.scdn.co/image/3a91ce49bc85beefde3a5f40577f40330367e467'}], 'type': 'album', 'uri': 'spotify:album:30xBAnEjl3nSDzp0qoiBUD', 'external_urls': {'spotify': 'https://open.spotify.com/album/30xBAnEjl3nSDzp0qoiBUD'}, 'name': 'Tee Shirt', 'album_type': 'single'}, 'preview_url': 'https://p.scdn.co/mp3-preview/6fccf47f5dde2b23f3f6a5303a99f6c65089828d?cid=cba9273cc2784d68b10cab9a7f7a25e6', 'disc_number': 1, 'available_markets': ['AD', 'AR', 'AT', 'BE', 'BG', 'BO', 'BR', 'CA', 'CH', 'CL', 'CO', 'CR', 'CY', 'CZ', 'DE', 'DK', 'DO', 'EC', 'EE', 'ES', 'FI', 'FR', 'GB', 'GR', 'GT', 'HK', 'HN', 'HU', 'ID', 'IE', 'IS', 'IT', 'JP', 'LT', 'LU', 'LV', 'MC', 'MT', 'MY', 'NI', 'NL', 'NO', 'NZ', 'PA', 'PE', 'PH', 'PL', 'PT', 'PY', 'SE', 'SG', 'SK', 'SV', 'TR', 'TW', 'US', 'UY'], 'track_number': 1, 'type': 'track', 'uri': 'spotify:track:3C5in0EVdoGepp5bA6lhlE', 'id': '3C5in0EVdoGepp5bA6lhlE', 'name': 'Tee Shirt', 'external_urls': {'spotify': 'https://open.spotify.com/track/3C5in0EVdoGepp5bA6lhlE'}, 'explicit': False}, {'popularity': 67, 'artists': [{'uri': 'spotify:artist:2WX2uTcsvV5OnS0inACecP', 'href': 'https://api.spotify.com/v1/artists/2WX2uTcsvV5OnS0inACecP', 'type': 'artist', 'external_urls': {'spotify': 'https://open.spotify.com/artist/2WX2uTcsvV5OnS0inACecP'}, 'name': 'Birdy', 'id': '2WX2uTcsvV5OnS0inACecP'}, {'uri': 'spotify:artist:20gsENnposVs2I4rQ5kvrf', 'href': 'https://api.spotify.com/v1/artists/20gsENnposVs2I4rQ5kvrf', 'type': 'artist', 'external_urls': {'spotify': 'https://open.spotify.com/artist/20gsENnposVs2I4rQ5kvrf'}, 'name': 'Sam Feldt', 'id': '20gsENnposVs2I4rQ5kvrf'}], 'external_ids': {'isrc': 'GBAHS1600233'}, 'duration_ms': 177023, 'href': 'https://api.spotify.com/v1/tracks/4tVybkClyH0hjL8jzMq3sH', 'album': {'id': '3d87A6igaqKye3mC2N4WKF', 'artists': [{'uri': 'spotify:artist:2WX2uTcsvV5OnS0inACecP', 'href': 'https://api.spotify.com/v1/artists/2WX2uTcsvV5OnS0inACecP', 'type': 'artist', 'external_urls': {'spotify': 'https://open.spotify.com/artist/2WX2uTcsvV5OnS0inACecP'}, 'name': 'Birdy', 'id': '2WX2uTcsvV5OnS0inACecP'}], 'available_markets': ['AD', 'AR', 'AT', 'AU', 'BE', 'BG', 'BO', 'BR', 'CA', 'CH', 'CL', 'CO', 'CR', 'CY', 'CZ', 'DE', 'DK', 'DO', 'EC', 'EE', 'ES', 'FI', 'FR', 'GB', 'GR', 'GT', 'HK', 'HN', 'HU', 'ID', 'IE', 'IS', 'IT', 'JP', 'LI', 'LT', 'LU', 'LV', 'MC', 'MT', 'MX', 'MY', 'NI', 'NL', 'NO', 'NZ', 'PA', 'PE', 'PH', 'PL', 'PT', 'PY', 'SE', 'SG', 'SK', 'SV', 'TR', 'TW', 'US', 'UY'], 'href': 'https://api.spotify.com/v1/albums/3d87A6igaqKye3mC2N4WKF', 'images': [{'width': 640, 'height': 640, 'url': 'https://i.scdn.co/image/6df97c0a4da2eef2cf2533a82858d2c238eb5ee4'}, {'width': 300, 'height': 300, 'url': 'https://i.scdn.co/image/04cd9c6f9d0d202630d4a1ec50851df564938ea7'}, {'width': 64, 'height': 64, 'url': 'https://i.scdn.co/image/c78c79c4f1d34729cbb6c68661f6a95cc9bb5678'}], 'type': 'album', 'uri': 'spotify:album:3d87A6igaqKye3mC2N4WKF', 'external_urls': {'spotify': 'https://open.spotify.com/album/3d87A6igaqKye3mC2N4WKF'}, 'name': 'Wild Horses (Sam Feldt Remix)', 'album_type': 'single'}, 'preview_url': 'https://p.scdn.co/mp3-preview/c493a65581bb1035a50724f7984416c5d79237c7?cid=cba9273cc2784d68b10cab9a7f7a25e6', 'disc_number': 1, 'available_markets': ['AD', 'AR', 'AT', 'AU', 'BE', 'BG', 'BO', 'BR', 'CA', 'CH', 'CL', 'CO', 'CR', 'CY', 'CZ', 'DE', 'DK', 'DO', 'EC', 'EE', 'ES', 'FI', 'FR', 'GB', 'GR', 'GT', 'HK', 'HN', 'HU', 'ID', 'IE', 'IS', 'IT', 'JP', 'LI', 'LT', 'LU', 'LV', 'MC', 'MT', 'MX', 'MY', 'NI', 'NL', 'NO', 'NZ', 'PA', 'PE', 'PH', 'PL', 'PT', 'PY', 'SE', 'SG', 'SK', 'SV', 'TR', 'TW', 'US', 'UY'], 'track_number': 1, 'type': 'track', 'uri': 'spotify:track:4tVybkClyH0hjL8jzMq3sH', 'id': '4tVybkClyH0hjL8jzMq3sH', 'name': 'Wild Horses - Sam Feldt Remix', 'external_urls': {'spotify': 'https://open.spotify.com/track/4tVybkClyH0hjL8jzMq3sH'}, 'explicit': False}, {'popularity': 66, 'artists': [{'uri': 'spotify:artist:2WX2uTcsvV5OnS0inACecP', 'href': 'https://api.spotify.com/v1/artists/2WX2uTcsvV5OnS0inACecP', 'type': 'artist', 'external_urls': {'spotify': 'https://open.spotify.com/artist/2WX2uTcsvV5OnS0inACecP'}, 'name': 'Birdy', 'id': '2WX2uTcsvV5OnS0inACecP'}, {'uri': 'spotify:artist:1l2ekx5skC4gJH8djERwh1', 'href': 'https://api.spotify.com/v1/artists/1l2ekx5skC4gJH8djERwh1', 'type': 'artist', 'external_urls': {'spotify': 'https://open.spotify.com/artist/1l2ekx5skC4gJH8djERwh1'}, 'name': 'Don Diablo', 'id': '1l2ekx5skC4gJH8djERwh1'}], 'external_ids': {'isrc': 'GBAHS1600040'}, 'duration_ms': 207145, 'href': 'https://api.spotify.com/v1/tracks/7KCXA4Y1gIGDSm388m9bW1', 'album': {'id': '4259aAIAYsIhri9W5EgM3J', 'artists': [{'uri': 'spotify:artist:2WX2uTcsvV5OnS0inACecP', 'href': 'https://api.spotify.com/v1/artists/2WX2uTcsvV5OnS0inACecP', 'type': 'artist', 'external_urls': {'spotify': 'https://open.spotify.com/artist/2WX2uTcsvV5OnS0inACecP'}, 'name': 'Birdy', 'id': '2WX2uTcsvV5OnS0inACecP'}], 'available_markets': ['AD', 'AR', 'AT', 'AU', 'BE', 'BG', 'BO', 'BR', 'CA', 'CH', 'CL', 'CO', 'CR', 'CY', 'CZ', 'DE', 'DK', 'DO', 'EC', 'EE', 'ES', 'FI', 'FR', 'GB', 'GR', 'GT', 'HK', 'HN', 'HU', 'ID', 'IE', 'IS', 'IT', 'JP', 'LI', 'LT', 'LU', 'LV', 'MC', 'MT', 'MX', 'MY', 'NI', 'NL', 'NO', 'NZ', 'PA', 'PE', 'PH', 'PL', 'PT', 'PY', 'SE', 'SG', 'SK', 'SV', 'TR', 'TW', 'US', 'UY'], 'href': 'https://api.spotify.com/v1/albums/4259aAIAYsIhri9W5EgM3J', 'images': [{'width': 640, 'height': 640, 'url': 'https://i.scdn.co/image/c1a06cf9cc3997c31f9eaf0eb20bcd0441b3e5a5'}, {'width': 300, 'height': 300, 'url': 'https://i.scdn.co/image/fe3231a54a8b800e01e26f01ca67690a767bb4b5'}, {'width': 64, 'height': 64, 'url': 'https://i.scdn.co/image/434093d23db55a9ae011a43c8473f4d1c94289ca'}], 'type': 'album', 'uri': 'spotify:album:4259aAIAYsIhri9W5EgM3J', 'external_urls': {'spotify': 'https://open.spotify.com/album/4259aAIAYsIhri9W5EgM3J'}, 'name': 'Keeping Your Head Up (Don Diablo Remix [Radio Edit])', 'album_type': 'single'}, 'preview_url': 'https://p.scdn.co/mp3-preview/6af69d5a69aef870e0339f445ab5e9a92e29338e?cid=cba9273cc2784d68b10cab9a7f7a25e6', 'disc_number': 1, 'available_markets': ['AD', 'AR', 'AT', 'AU', 'BE', 'BG', 'BO', 'BR', 'CA', 'CH', 'CL', 'CO', 'CR', 'CY', 'CZ', 'DE', 'DK', 'DO', 'EC', 'EE', 'ES', 'FI', 'FR', 'GB', 'GR', 'GT', 'HK', 'HN', 'HU', 'ID', 'IE', 'IS', 'IT', 'JP', 'LI', 'LT', 'LU', 'LV', 'MC', 'MT', 'MX', 'MY', 'NI', 'NL', 'NO', 'NZ', 'PA', 'PE', 'PH', 'PL', 'PT', 'PY', 'SE', 'SG', 'SK', 'SV', 'TR', 'TW', 'US', 'UY'], 'track_number': 1, 'type': 'track', 'uri': 'spotify:track:7KCXA4Y1gIGDSm388m9bW1', 'id': '7KCXA4Y1gIGDSm388m9bW1', 'name': 'Keeping Your Head Up - Don Diablo Remix [Radio Edit]', 'external_urls': {'spotify': 'https://open.spotify.com/track/7KCXA4Y1gIGDSm388m9bW1'}, 'explicit': False}, {'popularity': 66, 'artists': [{'uri': 'spotify:artist:2WX2uTcsvV5OnS0inACecP', 'href': 'https://api.spotify.com/v1/artists/2WX2uTcsvV5OnS0inACecP', 'type': 'artist', 'external_urls': {'spotify': 'https://open.spotify.com/artist/2WX2uTcsvV5OnS0inACecP'}, 'name': 'Birdy', 'id': '2WX2uTcsvV5OnS0inACecP'}], 'external_ids': {'isrc': 'GBAHS1100351'}, 'duration_ms': 256853, 'href': 'https://api.spotify.com/v1/tracks/0YywjDvFudcaHG74NuWISy', 'album': {'id': '1WGjSVIw0TVfbp5KrOFiP0', 'artists': [{'uri': 'spotify:artist:2WX2uTcsvV5OnS0inACecP', 'href': 'https://api.spotify.com/v1/artists/2WX2uTcsvV5OnS0inACecP', 'type': 'artist', 'external_urls': {'spotify': 'https://open.spotify.com/artist/2WX2uTcsvV5OnS0inACecP'}, 'name': 'Birdy', 'id': '2WX2uTcsvV5OnS0inACecP'}], 'available_markets': ['AR', 'AT', 'BE', 'BG', 'BO', 'BR', 'CH', 'CL', 'CO', 'CR', 'CZ', 'DE', 'DK', 'DO', 'EC', 'EE', 'FI', 'GR', 'GT', 'HK', 'HN', 'HU', 'ID', 'IE', 'IS', 'IT', 'JP', 'LT', 'LU', 'LV', 'MX', 'MY', 'NI', 'NL', 'NO', 'NZ', 'PA', 'PE', 'PH', 'PL', 'PY', 'SE', 'SG', 'SK', 'SV', 'TR', 'TW', 'US', 'UY'], 'href': 'https://api.spotify.com/v1/albums/1WGjSVIw0TVfbp5KrOFiP0', 'images': [{'width': 640, 'height': 640, 'url': 'https://i.scdn.co/image/99916fd005d57c040ef5df8d8f66f74195588819'}, {'width': 300, 'height': 300, 'url': 'https://i.scdn.co/image/79271a1f8b114c89be18003c60b7fbfc1d587d04'}, {'width': 64, 'height': 64, 'url': 'https://i.scdn.co/image/806eac470054a9b8c2b0397c27a9c0a6d01f5494'}], 'type': 'album', 'uri': 'spotify:album:1WGjSVIw0TVfbp5KrOFiP0', 'external_urls': {'spotify': 'https://open.spotify.com/album/1WGjSVIw0TVfbp5KrOFiP0'}, 'name': 'Birdy', 'album_type': 'album'}, 'preview_url': 'https://p.scdn.co/mp3-preview/f4ca3ea54912a5e4b88bc7a61851b652f4be7dfa?cid=cba9273cc2784d68b10cab9a7f7a25e6', 'disc_number': 1, 'available_markets': ['AR', 'AT', 'BE', 'BG', 'BO', 'BR', 'CH', 'CL', 'CO', 'CR', 'CZ', 'DE', 'DK', 'DO', 'EC', 'EE', 'FI', 'GR', 'GT', 'HK', 'HN', 'HU', 'ID', 'IE', 'IS', 'IT', 'JP', 'LT', 'LU', 'LV', 'MX', 'MY', 'NI', 'NL', 'NO', 'NZ', 'PA', 'PE', 'PH', 'PL', 'PY', 'SE', 'SG', 'SK', 'SV', 'TR', 'TW', 'US', 'UY'], 'track_number': 3, 'type': 'track', 'uri': 'spotify:track:0YywjDvFudcaHG74NuWISy', 'id': '0YywjDvFudcaHG74NuWISy', 'name': 'People Help The People', 'external_urls': {'spotify': 'https://open.spotify.com/track/0YywjDvFudcaHG74NuWISy'}, 'explicit': False}, {'popularity': 66, 'artists': [{'uri': 'spotify:artist:2WX2uTcsvV5OnS0inACecP', 'href': 'https://api.spotify.com/v1/artists/2WX2uTcsvV5OnS0inACecP', 'type': 'artist', 'external_urls': {'spotify': 'https://open.spotify.com/artist/2WX2uTcsvV5OnS0inACecP'}, 'name': 'Birdy', 'id': '2WX2uTcsvV5OnS0inACecP'}], 'external_ids': {'isrc': 'GBAHS1600364'}, 'duration_ms': 271053, 'href': 'https://api.spotify.com/v1/tracks/66zI1g4FK5NW5tW0VhMhZX', 'album': {'id': '1611TWYLJNq6MOBLm0VM9v', 'artists': [{'uri': 'spotify:artist:2WX2uTcsvV5OnS0inACecP', 'href': 'https://api.spotify.com/v1/artists/2WX2uTcsvV5OnS0inACecP', 'type': 'artist', 'external_urls': {'spotify': 'https://open.spotify.com/artist/2WX2uTcsvV5OnS0inACecP'}, 'name': 'Birdy', 'id': '2WX2uTcsvV5OnS0inACecP'}], 'available_markets': ['AD', 'AR', 'AT', 'AU', 'BE', 'BG', 'BO', 'BR', 'CA', 'CH', 'CL', 'CO', 'CR', 'CY', 'CZ', 'DE', 'DK', 'DO', 'EC', 'EE', 'ES', 'FI', 'FR', 'GB', 'GR', 'GT', 'HK', 'HN', 'HU', 'ID', 'IE', 'IS', 'IT', 'JP', 'LI', 'LT', 'LU', 'LV', 'MC', 'MT', 'MX', 'MY', 'NI', 'NL', 'NO', 'NZ', 'PA', 'PE', 'PH', 'PL', 'PT', 'PY', 'SE', 'SG', 'SK', 'SV', 'TR', 'TW', 'US', 'UY'], 'href': 'https://api.spotify.com/v1/albums/1611TWYLJNq6MOBLm0VM9v', 'images': [{'width': 640, 'height': 640, 'url': 'https://i.scdn.co/image/43547bc6f8f5c76b07f43e6b7d357cf13cfca6ff'}, {'width': 300, 'height': 300, 'url': 'https://i.scdn.co/image/b36b3dcf158e942a6b410652f037c7a21d614fca'}, {'width': 64, 'height': 64, 'url': 'https://i.scdn.co/image/886d2bcb7c6bc8f16bc20941f09f3eb77412adc6'}], 'type': 'album', 'uri': 'spotify:album:1611TWYLJNq6MOBLm0VM9v', 'external_urls': {'spotify': 'https://open.spotify.com/album/1611TWYLJNq6MOBLm0VM9v'}, 'name': 'Ghost in the Wind', 'album_type': 'single'}, 'preview_url': 'https://p.scdn.co/mp3-preview/eee7d1d699e2c7149083f53cdf3653bd25b5e505?cid=cba9273cc2784d68b10cab9a7f7a25e6', 'disc_number': 1, 'available_markets': ['AD', 'AR', 'AT', 'AU', 'BE', 'BG', 'BO', 'BR', 'CA', 'CH', 'CL', 'CO', 'CR', 'CY', 'CZ', 'DE', 'DK', 'DO', 'EC', 'EE', 'ES', 'FI', 'FR', 'GB', 'GR', 'GT', 'HK', 'HN', 'HU', 'ID', 'IE', 'IS', 'IT', 'JP', 'LI', 'LT', 'LU', 'LV', 'MC', 'MT', 'MX', 'MY', 'NI', 'NL', 'NO', 'NZ', 'PA', 'PE', 'PH', 'PL', 'PT', 'PY', 'SE', 'SG', 'SK', 'SV', 'TR', 'TW', 'US', 'UY'], 'track_number': 1, 'type': 'track', 'uri': 'spotify:track:66zI1g4FK5NW5tW0VhMhZX', 'id': '66zI1g4FK5NW5tW0VhMhZX', 'name': 'Ghost in the Wind', 'external_urls': {'spotify': 'https://open.spotify.com/track/66zI1g4FK5NW5tW0VhMhZX'}, 'explicit': False}, {'popularity': 63, 'artists': [{'uri': 'spotify:artist:2WX2uTcsvV5OnS0inACecP', 'href': 'https://api.spotify.com/v1/artists/2WX2uTcsvV5OnS0inACecP', 'type': 'artist', 'external_urls': {'spotify': 'https://open.spotify.com/artist/2WX2uTcsvV5OnS0inACecP'}, 'name': 'Birdy', 'id': '2WX2uTcsvV5OnS0inACecP'}], 'external_ids': {'isrc': 'GBAHS1300286'}, 'duration_ms': 252106, 'href': 'https://api.spotify.com/v1/tracks/2Kz5qeXifBxE0zmuoVchlM', 'album': {'id': '6ig2k0oiH2AXm8MugikskB', 'artists': [{'uri': 'spotify:artist:2WX2uTcsvV5OnS0inACecP', 'href': 'https://api.spotify.com/v1/artists/2WX2uTcsvV5OnS0inACecP', 'type': 'artist', 'external_urls': {'spotify': 'https://open.spotify.com/artist/2WX2uTcsvV5OnS0inACecP'}, 'name': 'Birdy', 'id': '2WX2uTcsvV5OnS0inACecP'}], 'available_markets': ['AD', 'AR', 'BE', 'BG', 'BO', 'BR', 'CL', 'CO', 'CR', 'CY', 'CZ', 'DK', 'DO', 'EC', 'EE', 'ES', 'FI', 'GB', 'GR', 'GT', 'HK', 'HN', 'HU', 'ID', 'IE', 'IS', 'IT', 'LT', 'LU', 'LV', 'MC', 'MT', 'MX', 'MY', 'NI', 'NL', 'NO', 'PA', 'PE', 'PH', 'PL', 'PT', 'PY', 'SE', 'SG', 'SK', 'SV', 'TR', 'TW', 'UY'], 'href': 'https://api.spotify.com/v1/albums/6ig2k0oiH2AXm8MugikskB', 'images': [{'width': 640, 'height': 640, 'url': 'https://i.scdn.co/image/e73657341c846178db226e1bb4f209b54e2dd287'}, {'width': 300, 'height': 300, 'url': 'https://i.scdn.co/image/a385977f0922bfc54af43c4bb2e044e759697868'}, {'width': 64, 'height': 64, 'url': 'https://i.scdn.co/image/756052395456ed57040090b3bb94efe66729f78d'}], 'type': 'album', 'uri': 'spotify:album:6ig2k0oiH2AXm8MugikskB', 'external_urls': {'spotify': 'https://open.spotify.com/album/6ig2k0oiH2AXm8MugikskB'}, 'name': 'Fire Within (Deluxe)', 'album_type': 'album'}, 'preview_url': 'https://p.scdn.co/mp3-preview/b383277697465b1737ed511714764255eb97c42f?cid=cba9273cc2784d68b10cab9a7f7a25e6', 'disc_number': 1, 'available_markets': ['AD', 'AR', 'BE', 'BG', 'BO', 'BR', 'CL', 'CO', 'CR', 'CY', 'CZ', 'DK', 'DO', 'EC', 'EE', 'ES', 'FI', 'GB', 'GR', 'GT', 'HK', 'HN', 'HU', 'ID', 'IE', 'IS', 'IT', 'LT', 'LU', 'LV', 'MC', 'MT', 'MX', 'MY', 'NI', 'NL', 'NO', 'PA', 'PE', 'PH', 'PL', 'PT', 'PY', 'SE', 'SG', 'SK', 'SV', 'TR', 'TW', 'UY'], 'track_number': 1, 'type': 'track', 'uri': 'spotify:track:2Kz5qeXifBxE0zmuoVchlM', 'id': '2Kz5qeXifBxE0zmuoVchlM', 'name': 'Wings', 'external_urls': {'spotify': 'https://open.spotify.com/track/2Kz5qeXifBxE0zmuoVchlM'}, 'explicit': False}, {'popularity': 62, 'artists': [{'uri': 'spotify:artist:2WX2uTcsvV5OnS0inACecP', 'href': 'https://api.spotify.com/v1/artists/2WX2uTcsvV5OnS0inACecP', 'type': 'artist', 'external_urls': {'spotify': 'https://open.spotify.com/artist/2WX2uTcsvV5OnS0inACecP'}, 'name': 'Birdy', 'id': '2WX2uTcsvV5OnS0inACecP'}], 'external_ids': {'isrc': 'GBAHS1500572'}, 'duration_ms': 208395, 'href': 'https://api.spotify.com/v1/tracks/5vuwXvQTpavYCgcPFnCMS4', 'album': {'id': '2uNFpEVey5RsxzTdoDmjiz', 'artists': [{'uri': 'spotify:artist:2WX2uTcsvV5OnS0inACecP', 'href': 'https://api.spotify.com/v1/artists/2WX2uTcsvV5OnS0inACecP', 'type': 'artist', 'external_urls': {'spotify': 'https://open.spotify.com/artist/2WX2uTcsvV5OnS0inACecP'}, 'name': 'Birdy', 'id': '2WX2uTcsvV5OnS0inACecP'}], 'available_markets': ['AD', 'AR', 'AU', 'BE', 'BG', 'BO', 'BR', 'CA', 'CL', 'CO', 'CR', 'CY', 'CZ', 'DK', 'DO', 'EC', 'EE', 'ES', 'FI', 'FR', 'GB', 'GR', 'GT', 'HK', 'HN', 'HU', 'ID', 'IE', 'IS', 'IT', 'JP', 'LI', 'LT', 'LU', 'LV', 'MC', 'MT', 'MX', 'MY', 'NI', 'NL', 'NO', 'NZ', 'PA', 'PE', 'PH', 'PL', 'PT', 'PY', 'SE', 'SG', 'SK', 'SV', 'TR', 'TW', 'UY'], 'href': 'https://api.spotify.com/v1/albums/2uNFpEVey5RsxzTdoDmjiz', 'images': [{'width': 640, 'height': 640, 'url': 'https://i.scdn.co/image/afd3acff8667727320318741201ef412a20ca473'}, {'width': 300, 'height': 300, 'url': 'https://i.scdn.co/image/428b342a0fe84422864f4b145c7b88b01da1d7f0'}, {'width': 64, 'height': 64, 'url': 'https://i.scdn.co/image/23aaddf639aeb3d7ad27581e06056ca61533e972'}], 'type': 'album', 'uri': 'spotify:album:2uNFpEVey5RsxzTdoDmjiz', 'external_urls': {'spotify': 'https://open.spotify.com/album/2uNFpEVey5RsxzTdoDmjiz'}, 'name': 'Beautiful Lies (Deluxe)', 'album_type': 'album'}, 'preview_url': 'https://p.scdn.co/mp3-preview/101bf12664989f8bae24506cc6daae3abef06382?cid=cba9273cc2784d68b10cab9a7f7a25e6', 'disc_number': 1, 'available_markets': ['AD', 'AR', 'AU', 'BE', 'BG', 'BO', 'BR', 'CA', 'CL', 'CO', 'CR', 'CY', 'CZ', 'DK', 'DO', 'EC', 'EE', 'ES', 'FI', 'FR', 'GB', 'GR', 'GT', 'HK', 'HN', 'HU', 'ID', 'IE', 'IS', 'IT', 'JP', 'LI', 'LT', 'LU', 'LV', 'MC', 'MT', 'MX', 'MY', 'NI', 'NL', 'NO', 'NZ', 'PA', 'PE', 'PH', 'PL', 'PT', 'PY', 'SE', 'SG', 'SK', 'SV', 'TR', 'TW', 'UY'], 'track_number': 3, 'type': 'track', 'uri': 'spotify:track:5vuwXvQTpavYCgcPFnCMS4', 'id': '5vuwXvQTpavYCgcPFnCMS4', 'name': 'Keeping Your Head Up', 'external_urls': {'spotify': 'https://open.spotify.com/track/5vuwXvQTpavYCgcPFnCMS4'}, 'explicit': False}]}\n"
     ]
    }
   ],
   "source": [
    "'''example with finding a users albums... '''\n",
    "birdy_uri = 'spotify:artist:2WX2uTcsvV5OnS0inACecP' #try and make a function\n",
    "#that returns this 'uri' given artist name.\n",
    "\n",
    "results = sp.artist_top_tracks(birdy_uri, country = 'SE')\n",
    "#albums = results['items']\n",
    "print(results)\n",
    "\n",
    "#while results['next']:\n",
    "#    results = spotify.next(results)\n",
    "#    albums.extend(results['items'])\n",
    "\n",
    "#for album in albums:\n",
    "#    print(album['name'])"
   ]
  },
  {
   "cell_type": "code",
   "execution_count": 7,
   "metadata": {
    "collapsed": false
   },
   "outputs": [
    {
     "data": {
      "text/plain": [
       "'spotify:artist:6vWDO969PvNqNYHIOW5v0m'"
      ]
     },
     "execution_count": 7,
     "metadata": {},
     "output_type": "execute_result"
    }
   ],
   "source": [
    "''' \n",
    "luke i changed ur function down below the index 1 was wrong so i put it as  0 and it giving\n",
    "way better results, chur...\n",
    "'''\n",
    "def get_uri(artist):\n",
    "    results = sp.search(q = \"artist:\" + artist, type = \"artist\")\n",
    "    artist_id = results['artists']['items'][0]['uri'] # changed from '1' to '0' ??\n",
    "   \n",
    "    return(artist_id)\n",
    "\n",
    "get_uri(\"Beyonce\")\n",
    "#A function that returns artist 'uri' as a string. \n",
    "#By most matching (first result)"
   ]
  },
  {
   "cell_type": "code",
   "execution_count": 54,
   "metadata": {
    "collapsed": false
   },
   "outputs": [
    {
     "data": {
      "text/plain": [
       "{'categories': {'href': 'https://api.spotify.com/v1/browse/categories?offset=0&limit=20',\n",
       "  'items': [{'href': 'https://api.spotify.com/v1/browse/categories/toplists',\n",
       "    'icons': [{'height': 275,\n",
       "      'url': 'https://t.scdn.co/media/derived/toplists_11160599e6a04ac5d6f2757f5511778f_0_0_275_275.jpg',\n",
       "      'width': 275}],\n",
       "    'id': 'toplists',\n",
       "    'name': 'Top Lists'},\n",
       "   {'href': 'https://api.spotify.com/v1/browse/categories/mood',\n",
       "    'icons': [{'height': 274,\n",
       "      'url': 'https://t.scdn.co/media/original/mood-274x274_976986a31ac8c49794cbdc7246fd5ad7_274x274.jpg',\n",
       "      'width': 274}],\n",
       "    'id': 'mood',\n",
       "    'name': 'Mood'},\n",
       "   {'href': 'https://api.spotify.com/v1/browse/categories/party',\n",
       "    'icons': [{'height': 274,\n",
       "      'url': 'https://t.scdn.co/media/links/partyicon_274x274.jpg',\n",
       "      'width': 274}],\n",
       "    'id': 'party',\n",
       "    'name': 'Party'},\n",
       "   {'href': 'https://api.spotify.com/v1/browse/categories/pop',\n",
       "    'icons': [{'height': 274,\n",
       "      'url': 'https://t.scdn.co/media/derived/pop-274x274_447148649685019f5e2a03a39e78ba52_0_0_274_274.jpg',\n",
       "      'width': 274}],\n",
       "    'id': 'pop',\n",
       "    'name': 'Pop'},\n",
       "   {'href': 'https://api.spotify.com/v1/browse/categories/popculture',\n",
       "    'icons': [{'height': 274,\n",
       "      'url': 'https://t.scdn.co/media/derived/trending-274x274_7b238f7217985e79d3664f2734347b98_0_0_274_274.jpg',\n",
       "      'width': 274}],\n",
       "    'id': 'popculture',\n",
       "    'name': 'Trending'},\n",
       "   {'href': 'https://api.spotify.com/v1/browse/categories/focus',\n",
       "    'icons': [{'height': 274,\n",
       "      'url': 'https://t.scdn.co/media/original/genre-images-square-274x274_5e50d72b846a198fcd2ca9b3aef5f0c8_274x274.jpg',\n",
       "      'width': 274}],\n",
       "    'id': 'focus',\n",
       "    'name': 'Focus'},\n",
       "   {'href': 'https://api.spotify.com/v1/browse/categories/rock',\n",
       "    'icons': [{'height': 274,\n",
       "      'url': 'https://t.scdn.co/media/derived/rock_9ce79e0a4ef901bbd10494f5b855d3cc_0_0_274_274.jpg',\n",
       "      'width': 274}],\n",
       "    'id': 'rock',\n",
       "    'name': 'Rock'},\n",
       "   {'href': 'https://api.spotify.com/v1/browse/categories/indie_alt',\n",
       "    'icons': [{'height': 274,\n",
       "      'url': 'https://t.scdn.co/media/derived/indie-274x274_add35b2b767ff7f3897262ad86809bdb_0_0_274_274.jpg',\n",
       "      'width': 274}],\n",
       "    'id': 'indie_alt',\n",
       "    'name': 'Indie'},\n",
       "   {'href': 'https://api.spotify.com/v1/browse/categories/edm_dance',\n",
       "    'icons': [{'height': 274,\n",
       "      'url': 'https://t.scdn.co/media/derived/edm-274x274_0ef612604200a9c14995432994455a6d_0_0_274_274.jpg',\n",
       "      'width': 274}],\n",
       "    'id': 'edm_dance',\n",
       "    'name': 'EDM/Dance'},\n",
       "   {'href': 'https://api.spotify.com/v1/browse/categories/chill',\n",
       "    'icons': [{'height': 274,\n",
       "      'url': 'https://t.scdn.co/media/derived/chill-274x274_4c46374f007813dd10b37e8d8fd35b4b_0_0_274_274.jpg',\n",
       "      'width': 274}],\n",
       "    'id': 'chill',\n",
       "    'name': 'Chill'},\n",
       "   {'href': 'https://api.spotify.com/v1/browse/categories/dinner',\n",
       "    'icons': [{'height': 274,\n",
       "      'url': 'https://t.scdn.co/media/original/dinner_1b6506abba0ba52c54e6d695c8571078_274x274.jpg',\n",
       "      'width': 274}],\n",
       "    'id': 'dinner',\n",
       "    'name': 'Dinner'},\n",
       "   {'href': 'https://api.spotify.com/v1/browse/categories/sleep',\n",
       "    'icons': [{'height': 274,\n",
       "      'url': 'https://t.scdn.co/media/derived/sleep-274x274_0d4f836af8fab7bf31526968073e671c_0_0_274_274.jpg',\n",
       "      'width': 274}],\n",
       "    'id': 'sleep',\n",
       "    'name': 'Sleep'},\n",
       "   {'href': 'https://api.spotify.com/v1/browse/categories/hiphop',\n",
       "    'icons': [{'height': 274,\n",
       "      'url': 'https://t.scdn.co/media/original/hip-274_0a661854d61e29eace5fe63f73495e68_274x274.jpg',\n",
       "      'width': 274}],\n",
       "    'id': 'hiphop',\n",
       "    'name': 'Hip Hop'},\n",
       "   {'href': 'https://api.spotify.com/v1/browse/categories/workout',\n",
       "    'icons': [{'height': None,\n",
       "      'url': 'https://t.scdn.co/media/links/workout-274x274.jpg',\n",
       "      'width': None}],\n",
       "    'id': 'workout',\n",
       "    'name': 'Workout'},\n",
       "   {'href': 'https://api.spotify.com/v1/browse/categories/rnb',\n",
       "    'icons': [{'height': 274,\n",
       "      'url': 'https://t.scdn.co/media/derived/r-b-274x274_fd56efa72f4f63764b011b68121581d8_0_0_274_274.jpg',\n",
       "      'width': 274}],\n",
       "    'id': 'rnb',\n",
       "    'name': 'RnB'},\n",
       "   {'href': 'https://api.spotify.com/v1/browse/categories/country',\n",
       "    'icons': [{'height': 274,\n",
       "      'url': 'https://t.scdn.co/media/derived/icon-274x274_6a35972b380f65dc348e0c798fe626a4_0_0_274_274.jpg',\n",
       "      'width': 274}],\n",
       "    'id': 'country',\n",
       "    'name': 'Country'},\n",
       "   {'href': 'https://api.spotify.com/v1/browse/categories/folk_americana',\n",
       "    'icons': [{'height': 274,\n",
       "      'url': 'https://t.scdn.co/media/derived/folk-274x274_ced3f75528ac61faf505863f7d7fae64_0_0_274_274.jpg',\n",
       "      'width': 274}],\n",
       "    'id': 'folk_americana',\n",
       "    'name': 'Folk & Americana'},\n",
       "   {'href': 'https://api.spotify.com/v1/browse/categories/metal',\n",
       "    'icons': [{'height': 274,\n",
       "      'url': 'https://t.scdn.co/media/original/metal_27c921443fd0a5ba95b1b2c2ae654b2b_274x274.jpg',\n",
       "      'width': 274}],\n",
       "    'id': 'metal',\n",
       "    'name': 'Metal'},\n",
       "   {'href': 'https://api.spotify.com/v1/browse/categories/soul',\n",
       "    'icons': [{'height': 274,\n",
       "      'url': 'https://t.scdn.co/media/derived/soul-274x274_266bc900b35dda8956380cffc73a4d8c_0_0_274_274.jpg',\n",
       "      'width': 274}],\n",
       "    'id': 'soul',\n",
       "    'name': 'Soul'},\n",
       "   {'href': 'https://api.spotify.com/v1/browse/categories/travel',\n",
       "    'icons': [{'height': 274,\n",
       "      'url': 'https://t.scdn.co/media/derived/travel-274x274_1e89cd5b42cf8bd2ff8fc4fb26f2e955_0_0_274_274.jpg',\n",
       "      'width': 274}],\n",
       "    'id': 'travel',\n",
       "    'name': 'Travel'}],\n",
       "  'limit': 20,\n",
       "  'next': 'https://api.spotify.com/v1/browse/categories?offset=20&limit=20',\n",
       "  'offset': 0,\n",
       "  'previous': None,\n",
       "  'total': 33}}"
      ]
     },
     "execution_count": 54,
     "metadata": {},
     "output_type": "execute_result"
    }
   ],
   "source": [
    "sp.categories()"
   ]
  },
  {
   "cell_type": "code",
   "execution_count": 8,
   "metadata": {
    "collapsed": false
   },
   "outputs": [
    {
     "name": "stdout",
     "output_type": "stream",
     "text": [
      "[{'analysis_url': 'https://api.spotify.com/v1/audio-analysis/4RL77hMWUq35NYnPLXBpih', 'danceability': 0.379, 'acousticness': 0.952, 'uri': 'spotify:track:4RL77hMWUq35NYnPLXBpih', 'key': 4, 'loudness': -8.485, 'duration_ms': 201080, 'tempo': 166.467, 'speechiness': 0.051, 'instrumentalness': 0.00106, 'energy': 0.29, 'valence': 0.176, 'mode': 1, 'time_signature': 4, 'type': 'audio_features', 'liveness': 0.118, 'id': '4RL77hMWUq35NYnPLXBpih', 'track_href': 'https://api.spotify.com/v1/tracks/4RL77hMWUq35NYnPLXBpih'}]\n"
     ]
    }
   ],
   "source": [
    "''' lets try get related song '''\n",
    "\n",
    "artst = 'Young Thug'\n",
    "\n",
    "# get audio analysis of SP track skinny love...\n",
    "related = sp.audio_features('spotify:track:4RL77hMWUq35NYnPLXBpih')\n",
    "\n",
    "print(related)\n",
    "#for artist in related['artists']:\n",
    "    #print('  ', artist['name'])\n",
    "    #print('  ', artist['popularity'])\n",
    "    #print('  ', artist['followers']['total'])\n",
    "\n"
   ]
  },
  {
   "cell_type": "code",
   "execution_count": 9,
   "metadata": {
    "collapsed": true
   },
   "outputs": [],
   "source": [
    "def related_artists(name):\n",
    "    related = sp.artist_related_artists(get_uri(name))\n",
    "    rels = []\n",
    "    for artist in related['artists']:\n",
    "        rels.append(artist['name'])\n",
    "    return(rels)\n",
    "\n",
    "\n",
    "def next_artist(artist, artists = []):\n",
    "    ''' artists is the storage of past people that have been in there'''\n",
    "    RelatedArtists = related_artists(artist)\n",
    "    relates = [] # empty list to append with future \n",
    "    \n",
    "    for i in RelatedArtists:\n",
    "        relates.append(related_artists(i) )\n",
    "    \n",
    "    # create a bag of words - to index each artist in:\n",
    "    \n",
    "    BOW = np.unique(relates).flatten() \n",
    "    vecs = np.zeros((len(relates), len(BOW)))  # unique artists as columns...\n",
    "\n",
    "    for i in range(len(relates)):\n",
    "        # turn each into a vector of 0 and 1\n",
    "        for art in relates[i]:\n",
    "            # this loops over each artist:\n",
    "            idx = np.where(BOW == art)[0][0]\n",
    "            # set that idx number = to 1\n",
    "            vecs[i,idx] = 1\n",
    "    \n",
    "    \n",
    "    # then calculate cosine similarity and select the lowest similarity artist and print them\n",
    "    sims = np.zeros((len(relates),len(relates)))\n",
    "    sim_means = []\n",
    "    for i in range(len(vecs)):\n",
    "        # loop over each vector\n",
    "        for j in range(len(vecs)):\n",
    "            # do this again because you want to get similarity between each matrix...\n",
    "            sims[i,j] = 1 - spatial.distance.cosine(vecs[i],vecs[j])\n",
    "        # calculate row wise means:\n",
    "        sim_means.append(np.var(sims[i] ))\n",
    "    \n",
    "    # find the lowest scoring similarity artist\n",
    "    lowest_idx = np.where(sim_means == max(sim_means) )[0][0]\n",
    "    #print(lowest_idx)\n",
    "    # return artists name:\n",
    "    \n",
    "\n",
    "    #if (RelatedArtists[lowest_idx] in artists) == True :\n",
    "    # do the process again...\n",
    "    \n",
    "    \n",
    "    print(RelatedArtists[lowest_idx])\n",
    "    \n",
    "    \n",
    "    return(RelatedArtists[lowest_idx])"
   ]
  },
  {
   "cell_type": "code",
   "execution_count": 44,
   "metadata": {
    "collapsed": false
   },
   "outputs": [
    {
     "name": "stdout",
     "output_type": "stream",
     "text": [
      "White Lion\n"
     ]
    },
    {
     "data": {
      "text/plain": [
       "'White Lion'"
      ]
     },
     "execution_count": 44,
     "metadata": {},
     "output_type": "execute_result"
    }
   ],
   "source": [
    "next_artist('Firehouse')"
   ]
  },
  {
   "cell_type": "code",
   "execution_count": 12,
   "metadata": {
    "collapsed": false
   },
   "outputs": [],
   "source": [
    "# import some data to autoencode -- top artists\n",
    "os.chdir('C:\\\\Users\\\\Max.Polaczuk\\\\Google Drive\\\\music_merge\\\\artists')\n",
    "pop50 = pd.read_csv('pop50.csv')"
   ]
  },
  {
   "cell_type": "code",
   "execution_count": 16,
   "metadata": {
    "collapsed": false
   },
   "outputs": [
    {
     "name": "stdout",
     "output_type": "stream",
     "text": [
      "['THE BEATLES', 'MADONNA', 'ELTON JOHN', 'ELVIS PRESLEY', 'MARIAH CAREY', 'STEVIE WONDER', 'JANET JACKSON', 'MICHAEL JACKSON', 'WHITNEY HOUSTON', 'THE ROLLING STONES', 'PAUL MCCARTNEY', 'BEE GEES', 'RIHANNA', 'USHER', 'CHICAGO', 'THE SUPREMES', 'DARYL HALL JOHN OATES', 'PRINCE', 'ROD STEWART', 'OLIVIA NEWTON-JOHN', 'ARETHA FRANKLIN', 'MARVIN GAYE', 'PHIL COLLINS', 'KATY PERRY', 'BILLY JOEL', 'DIANA ROSS', 'THE 4 SEASONS', 'THE TEMPTATIONS', 'DONNA SUMMER', 'THE BEACH BOYS', 'LIONEL RICHIE', 'NEIL DIAMOND', 'CARPENTERS', 'TAYLOR SWIFT', 'BOYZ II MEN', 'THE JACKSONS', 'CONNIE FRANCIS', 'KENNY ROGERS', 'BEYONCE', 'BRENDA LEE', 'BARBRA STREISAND', 'BRYAN ADAMS', 'CHER', 'MAROON 5', 'GEORGE MICHAEL', 'THE BLACK EYED PEAS', 'BOBBY VINTON', 'JOHN MELLENCAMP', 'THREE DOG NIGHT', 'HUEY LEWIS & THE NEWS']\n"
     ]
    }
   ],
   "source": [
    "print(pop50.ix[:,0].tolist())\n",
    "pop = (pop50.ix[:,0].tolist() )"
   ]
  },
  {
   "cell_type": "code",
   "execution_count": 17,
   "metadata": {
    "collapsed": false
   },
   "outputs": [
    {
     "name": "stdout",
     "output_type": "stream",
     "text": [
      "['spotify:artist:3WrFJ7ztbogyGnTHbHJFl2', 'spotify:artist:6tbjWDEIzxoDsBA1FuhfPW', 'spotify:artist:3PhoLpVuITZKcymswpck5b', 'spotify:artist:43ZHCT0cAZBISjO8DG9PnE', 'spotify:artist:4iHNK0tOyZPYnBU7nGAgpQ', 'spotify:artist:7guDJrEfX3qb6FEbdPA5qi', 'spotify:artist:4qwGe91Bz9K2T8jXTZ815W', 'spotify:artist:3fMbdgg4jU18AjLCKBhRSm', 'spotify:artist:6XpaIBNiVzIetEPCWDvAFP', 'spotify:artist:22bE4uQ6baNwSHPVcDxLCe', 'spotify:artist:4STHEaNw4mPZ2tzheohgXB', 'spotify:artist:1LZEQNv7sE11VDY3SdxQeN', 'spotify:artist:5pKCCKE2ajJHZ9KAiaK11H', 'spotify:artist:23zg3TcAtWQy7J6upgbUnj', 'spotify:artist:07d5etnpjriczFBB8pxmRe', 'spotify:artist:57bUPid8xztkieZfS7OlEV', 'spotify:artist:77tT1kLj6mCWtFNqiOmP9H', 'spotify:artist:3MHaV05u0io8fQbZ2XPtlC', 'spotify:artist:2y8Jo9CKhJvtfeKOsYzRdT', 'spotify:artist:4BoRxUdrcgbbq1rxJvvhg9', 'spotify:artist:7nwUJBm0HE4ZxD3f5cy5ok', 'spotify:artist:3koiLjNrgRTNbOwViDipeA', 'spotify:artist:4lxfqrEsLX6N1N4OCSkILp', 'spotify:artist:6jJ0s89eD6GaHleKKya26X', 'spotify:artist:6zFYqv1mOsgBRQbae3JJ9e', 'spotify:artist:3MdG05syQeRYPPcClLaUGl', 'spotify:artist:6mcrZQmgzFGRWf7C0SObou', 'spotify:artist:3RwQ26hR2tJtA8F9p2n7jG', 'spotify:artist:2eogQKWWoohI3BSnoG7E2U', 'spotify:artist:3oDbviiivRWhXwIE8hxkVV', 'spotify:artist:3gMaNLQm7D9MornNILzdSl', 'spotify:artist:7mEIug7XUlQHikrFxjTWes', 'spotify:artist:1eEfMU2AhEo7XnKgL7c304', 'spotify:artist:06HL4z0CvFAxyc27GXpf02', 'spotify:artist:6O74knDqdv3XaWtkII7Xjp', 'spotify:artist:2yrbLiuBmc9j81lTX3XUuI', 'spotify:artist:3EY5DxGdy7x4GelivOjS2Q', 'spotify:artist:4tw2Lmn9tTPUv7Gy7mVPI4', 'spotify:artist:6vWDO969PvNqNYHIOW5v0m', 'spotify:artist:4cPHsZM98sKzmV26wlwD2W', 'spotify:artist:7jmTilWYlKOuavFfmQAcu6', 'spotify:artist:3Z02hBLubJxuFJfhacLSDc', 'spotify:artist:72OaDtakiy6yFqkt4TsiFt', 'spotify:artist:04gDigrS5kc9YWfZHwBETP', 'spotify:artist:19ra5tSw0tWufvUp8GotLo', 'spotify:artist:1yxSLGMDHlW21z4YXirZDS', 'spotify:artist:6bOYtKnpLPQSfMpS2ilotK', 'spotify:artist:3lPQ2Fk5JOwGWAF3ORFCqH', 'spotify:artist:4FAEZeJcsYYBkNq2D3KGTV', 'spotify:artist:7A9yZMTrFZcgEWAX2kBfK6']\n"
     ]
    }
   ],
   "source": [
    "## for each artist get their uid and save\n",
    "\n",
    "uris = []\n",
    "\n",
    "for p in pop:\n",
    "    uris.append(get_uri(p))\n",
    "    \n",
    "print(uris)"
   ]
  },
  {
   "cell_type": "code",
   "execution_count": 22,
   "metadata": {
    "collapsed": false
   },
   "outputs": [
    {
     "name": "stdout",
     "output_type": "stream",
     "text": [
      "['british invasion', 'classic rock', 'merseybeat', 'protopunk', 'psychedelic rock', 'rock', 'dance pop', 'europop', 'new wave pop', 'pop', 'pop rock', 'album rock', 'classic rock', 'folk christmas', 'glam rock', 'mellow gold', 'piano rock', 'rock', 'singer-songwriter', 'soft rock', 'christmas', 'rock', 'rock-and-roll', 'rockabilly', 'dance pop', 'pop', 'pop christmas', 'post-teen pop', 'r&b', 'soul christmas', 'urban contemporary', 'adult standards', 'funk rock', 'motown', 'soft rock', 'soul', 'soul christmas', 'dance pop', 'hip pop', 'indie r&b', 'motown', 'neo soul', 'new jack swing', 'pop', 'pop rap', 'pop rock', 'quiet storm', 'r&b', 'soul', 'urban contemporary', 'dance pop', 'pop', 'pop christmas', 'dance pop', 'europop', 'hip pop', 'pop', 'pop christmas', 'quiet storm', 'r&b', 'soul', 'soul christmas', 'urban contemporary', 'album rock', 'british invasion', 'classic rock', 'folk rock', 'mellow gold', 'protopunk', 'rock', 'singer-songwriter', 'album rock', 'classic rock', 'folk rock', 'mellow gold', 'pop christmas', 'rock', 'singer-songwriter', 'soft rock', 'adult standards', 'disco', 'mellow gold', 'soft rock', 'soul christmas', 'dance pop', 'pop', 'pop christmas', 'r&b', 'soul christmas', 'urban contemporary', 'dance pop', 'pop', 'pop christmas', 'pop rap', 'r&b', 'rap', 'urban contemporary', 'deep indie r&b', 'deep pop r&b', 'escape room', 'hip hop', 'indie r&b', 'neo soul', 'pop rap', 'r&b', 'rap', 'soul', 'southern hip hop', 'underground hip hop', 'urban contemporary', 'adult standards', 'brill building pop', 'chicago soul', 'christmas', 'classic funk rock', 'classic rock', 'disco', 'folk rock', 'jazz blues', 'mellow gold', 'memphis soul', 'motown', 'quiet storm', 'rock-and-roll', 'soul', 'soul blues', 'soul christmas', 'southern soul', 'adult standards', 'album rock', 'classic rock', 'dance rock', 'folk rock', 'hard rock', 'mellow gold', 'motown', 'new wave', 'new wave pop', 'rock', 'singer-songwriter', 'soft rock', 'soul', 'bachata', 'latin', 'latin hip hop', 'latin pop', 'merengue urbano', 'reggaeton', 'tropical', 'adult standards', 'album rock', 'classic rock', 'folk christmas', 'folk rock', 'hard rock', 'mellow gold', 'rock', 'singer-songwriter', 'soft rock', 'adult standards', 'album rock', 'australian dance', 'brill building pop', 'bubblegum pop', 'country christmas', 'disco', 'hollywood', 'mellow gold', 'new wave pop', 'soft rock', 'soul christmas', 'adult standards', 'christmas', 'classic funk rock', 'disco', 'funk', 'jazz blues', 'memphis soul', 'motown', 'soul', 'soul christmas', 'southern soul', 'vocal jazz', 'adult standards', 'motown', 'quiet storm', 'soul', 'soul christmas', 'album rock', 'mellow gold', 'rock', 'soft rock', 'dance pop', 'pop', 'pop christmas', 'post-teen pop', 'adult standards', 'album rock', 'classic rock', 'folk rock', 'hard rock', 'mellow gold', 'neo mellow', 'piano rock', 'pop rock', 'rock', 'singer-songwriter', 'soft rock', 'adult standards', 'brill building pop', 'christmas', 'classic funk rock', 'dance pop', 'disco', 'funk', 'mellow gold', 'memphis soul', 'motown', 'new wave pop', 'quiet storm', 'r&b', 'soft rock', 'soul', 'soul blues', 'soul christmas', 'urban contemporary', 'adult standards', 'brill building pop', 'bubblegum pop', 'christmas', 'doo-wop', 'folk rock', 'motown', 'rock-and-roll', 'adult standards', 'brill building pop', 'chicago soul', 'christmas', 'disco', 'funk', 'funk rock', 'memphis soul', 'motown', 'soul', 'soul blues', 'soul christmas', 'southern soul', 'adult standards', 'dance pop', 'dance rock', 'disco', 'europop', 'mellow gold', 'motown', 'new wave pop', 'quiet storm', 'soft rock', 'soul', 'soul christmas', 'album rock', 'brill building pop', 'christmas', 'classic rock', 'folk rock', 'mellow gold', 'pop christmas', 'psychedelic rock', 'rock', 'singer-songwriter', 'soft rock', 'soul', 'adult standards', 'christmas', 'dance pop', 'disco', 'mellow gold', 'motown', 'quiet storm', 'r&b', 'soft rock', 'soul', 'soul christmas', 'adult standards', 'album rock', 'brill building pop', 'christmas', 'classic rock', 'folk', 'folk christmas', 'folk rock', 'mellow gold', 'rock', 'rock-and-roll', 'roots rock', 'singer-songwriter', 'soft rock', 'traditional folk', 'adult standards', 'brill building pop', 'christmas', 'folk christmas', 'folk rock', 'mellow gold', 'pop christmas', 'soft rock', 'dance pop', 'pop', 'pop christmas', 'post-teen pop', 'boy band', 'dance pop', 'hip pop', 'neo soul', 'new jack swing', 'pop', 'pop christmas', 'quiet storm', 'r&b', 'soul christmas', 'urban contemporary', 'boy band', 'motown', 'soul christmas', 'adult standards', 'brill building pop', 'bubblegum pop', 'christmas', 'easy listening', 'lounge', 'nashville sound', 'rock-and-roll', 'rockabilly', 'adult standards', 'country', 'country christmas', 'country rock', 'mellow gold', 'nashville sound', 'outlaw country', 'soft rock', 'traditional country', 'dance pop', 'pop', 'r&b', 'adult standards', 'brill building pop', 'christmas', 'country christmas', 'rock-and-roll', 'rockabilly', 'adult standards', 'cabaret', 'christmas', 'disco', 'hollywood', 'mellow gold', 'opera', 'operatic pop', 'show tunes', 'soft rock', 'vocal jazz', 'album rock', 'canadian pop', 'hard rock', 'mellow gold', 'pop rock', 'rock', 'soft rock', 'dance pop', 'disco', 'hollywood', 'mellow gold', 'new wave pop', 'pop', 'pop christmas', 'pop rock', 'soft rock', 'dance pop', 'pop', 'pop christmas', 'boy band', 'dance pop', 'mellow gold', 'pop christmas', 'soft rock', 'dance pop', 'pop', 'pop rap', 'post-teen pop', 'adult standards', 'brill building pop', 'bubblegum pop', 'christmas', 'easy listening', 'folk rock', 'lounge', 'mellow gold', 'merseybeat', 'nashville sound', 'rock-and-roll', 'rockabilly', 'album rock', 'blues-rock', 'classic rock', 'country rock', 'electric blues', 'folk', 'folk christmas', 'folk rock', 'hard rock', 'mellow gold', 'pop christmas', 'pop rock', 'rock', 'roots rock', 'singer-songwriter', 'soft rock', 'southern rock', 'album rock', 'blues-rock', 'brill building pop', 'british blues', 'bubblegum pop', 'classic funk rock', 'classic rock', 'country rock', 'folk', 'folk rock', 'hard rock', 'mellow gold', 'psychedelic rock', 'rock', 'roots rock', 'singer-songwriter', 'soft rock', 'southern rock', 'symphonic rock', 'traditional folk', 'album rock', 'classic rock', 'dance rock', 'folk rock', 'hard rock', 'mellow gold', 'new romantic', 'new wave', 'new wave pop', 'pop rock', 'rock', 'singer-songwriter', 'soft rock']\n"
     ]
    }
   ],
   "source": [
    "## now we can use these fellows to return their artist information:\n",
    "\n",
    "# save each genre in a list \n",
    "genres = []\n",
    "for i in range(len(uris)):\n",
    "    K = sp.artist(uris[i])['genres']\n",
    "    for k in range(len(K)):\n",
    "        genres.append(K[k])\n",
    "\n",
    "print(genres)"
   ]
  },
  {
   "cell_type": "code",
   "execution_count": 25,
   "metadata": {
    "collapsed": false
   },
   "outputs": [
    {
     "name": "stdout",
     "output_type": "stream",
     "text": [
      "['adult standards' 'album rock' 'australian dance' 'bachata' 'blues-rock'\n",
      " 'boy band' 'brill building pop' 'british blues' 'british invasion'\n",
      " 'bubblegum pop' 'cabaret' 'canadian pop' 'chicago soul' 'christmas'\n",
      " 'classic funk rock' 'classic rock' 'country' 'country christmas'\n",
      " 'country rock' 'dance pop' 'dance rock' 'deep indie r&b' 'deep pop r&b'\n",
      " 'disco' 'doo-wop' 'easy listening' 'electric blues' 'escape room'\n",
      " 'europop' 'folk' 'folk christmas' 'folk rock' 'funk' 'funk rock'\n",
      " 'glam rock' 'hard rock' 'hip hop' 'hip pop' 'hollywood' 'indie r&b'\n",
      " 'jazz blues' 'latin' 'latin hip hop' 'latin pop' 'lounge' 'mellow gold'\n",
      " 'memphis soul' 'merengue urbano' 'merseybeat' 'motown' 'nashville sound'\n",
      " 'neo mellow' 'neo soul' 'new jack swing' 'new romantic' 'new wave'\n",
      " 'new wave pop' 'opera' 'operatic pop' 'outlaw country' 'piano rock' 'pop'\n",
      " 'pop christmas' 'pop rap' 'pop rock' 'post-teen pop' 'protopunk'\n",
      " 'psychedelic rock' 'quiet storm' 'r&b' 'rap' 'reggaeton' 'rock'\n",
      " 'rock-and-roll' 'rockabilly' 'roots rock' 'show tunes' 'singer-songwriter'\n",
      " 'soft rock' 'soul' 'soul blues' 'soul christmas' 'southern hip hop'\n",
      " 'southern rock' 'southern soul' 'symphonic rock' 'traditional country'\n",
      " 'traditional folk' 'tropical' 'underground hip hop' 'urban contemporary'\n",
      " 'vocal jazz']\n"
     ]
    }
   ],
   "source": [
    "# get the unique list of genres and index them..\n",
    "genres = np.unique(genres)\n",
    "print(genres)"
   ]
  },
  {
   "cell_type": "code",
   "execution_count": 32,
   "metadata": {
    "collapsed": false
   },
   "outputs": [],
   "source": [
    "# setup null matrix length of artists by length of genres...\n",
    "GEN = np.zeros((len(pop),len(genres)))\n",
    "\n",
    "# run a loop over each artist to get their vector of \n",
    "\n",
    "for i in range(len(uris)):\n",
    "    K = sp.artist(uris[i])['genres']\n",
    "    for k in range(len(K)):\n",
    "        idx = np.where(genres == K[k])[0][0]\n",
    "        GEN[i,idx] = 1"
   ]
  },
  {
   "cell_type": "code",
   "execution_count": 33,
   "metadata": {
    "collapsed": false
   },
   "outputs": [
    {
     "name": "stdout",
     "output_type": "stream",
     "text": [
      "[[ 0.  0.  0. ...,  0.  0.  0.]\n",
      " [ 0.  0.  0. ...,  0.  0.  0.]\n",
      " [ 0.  1.  0. ...,  0.  0.  0.]\n",
      " ..., \n",
      " [ 0.  1.  0. ...,  0.  0.  0.]\n",
      " [ 0.  1.  0. ...,  0.  0.  0.]\n",
      " [ 0.  1.  0. ...,  0.  0.  0.]]\n"
     ]
    }
   ],
   "source": [
    "print(GEN)"
   ]
  },
  {
   "cell_type": "code",
   "execution_count": null,
   "metadata": {
    "collapsed": true
   },
   "outputs": [],
   "source": []
  }
 ],
 "metadata": {
  "anaconda-cloud": {},
  "kernelspec": {
   "display_name": "Python [Root]",
   "language": "python",
   "name": "Python [Root]"
  },
  "language_info": {
   "codemirror_mode": {
    "name": "ipython",
    "version": 3
   },
   "file_extension": ".py",
   "mimetype": "text/x-python",
   "name": "python",
   "nbconvert_exporter": "python",
   "pygments_lexer": "ipython3",
   "version": "3.5.2"
  }
 },
 "nbformat": 4,
 "nbformat_minor": 0
}
