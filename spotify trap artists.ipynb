{
 "cells": [
  {
   "cell_type": "markdown",
   "metadata": {},
   "source": [
    "# Playing around with the Spotify API"
   ]
  },
  {
   "cell_type": "code",
   "execution_count": 1,
   "metadata": {
    "collapsed": false
   },
   "outputs": [
    {
     "name": "stderr",
     "output_type": "stream",
     "text": [
      "Using TensorFlow backend.\n"
     ]
    }
   ],
   "source": [
    "import pandas as pd\n",
    "import numpy as np\n",
    "import os\n",
    "import sys\n",
    "import spotipy\n",
    "import keras\n",
    "from keras.models import Sequential\n",
    "from keras.layers import Dense, Activation\n"
   ]
  },
  {
   "cell_type": "code",
   "execution_count": 2,
   "metadata": {
    "collapsed": true
   },
   "outputs": [],
   "source": [
    "'''\n",
    "define the API connection - usually log in from here as well...\n",
    "'''\n",
    "\n",
    "spotify=spotipy.Spotify()\n"
   ]
  },
  {
   "cell_type": "code",
   "execution_count": 3,
   "metadata": {
    "collapsed": false
   },
   "outputs": [
    {
     "data": {
      "text/plain": [
       "'spotify:artist:6vWDO969PvNqNYHIOW5v0m'"
      ]
     },
     "execution_count": 3,
     "metadata": {},
     "output_type": "execute_result"
    }
   ],
   "source": [
    "''' \n",
    "luke i changed ur function down below the index 1 was wrong so i put it as  0 and it giving\n",
    "way better results, chur...\n",
    "'''\n",
    "def get_uri(artist):\n",
    "    results = spotify.search(q = \"artist:\" + artist, type = \"artist\")\n",
    "    artist_id = results['artists']['items'][0]['uri'] # changed from '1' to '0' ??\n",
    "   \n",
    "    return(artist_id)\n",
    "\n",
    "get_uri(\"Beyonce\")\n",
    "#A function that returns artist 'uri' as a string. \n",
    "#By most matching (first result)"
   ]
  },
  {
   "cell_type": "code",
   "execution_count": 15,
   "metadata": {
    "collapsed": false
   },
   "outputs": [],
   "source": [
    "''' lets try get related song '''\n",
    "\n",
    "artst = 'KISS'\n",
    "related = spotify.artist_related_artists(get_uri(artst))\n",
    "rels = []\n",
    "for artist in related['artists']:\n",
    "    rels.append(artist['name'])\n"
   ]
  },
  {
   "cell_type": "markdown",
   "metadata": {},
   "source": [
    "# APP that takes you on a musical journey\n",
    "It does this by moving to the least similar artist from each similar artist (the artist with the least back-links). Iteration expects you to get out of the genre the fastest of any other path"
   ]
  },
  {
   "cell_type": "code",
   "execution_count": 17,
   "metadata": {
    "collapsed": true
   },
   "outputs": [],
   "source": [
    "# get related artists:\n",
    "\n",
    "def related_artists(name):\n",
    "    related = spotify.artist_related_artists(get_uri(name))\n",
    "    rels = []\n",
    "    for artist in related['artists']:\n",
    "        rels.append(artist['name'])\n",
    "    return(rels)"
   ]
  },
  {
   "cell_type": "code",
   "execution_count": 63,
   "metadata": {
    "collapsed": false
   },
   "outputs": [
    {
     "data": {
      "text/plain": [
       "['Rich Homie Quan',\n",
       " '2 Chainz',\n",
       " 'Young Thug',\n",
       " 'Waka Flocka Flame',\n",
       " 'Yo Gotti',\n",
       " 'Migos',\n",
       " 'French Montana',\n",
       " 'Gucci Mane',\n",
       " 'Meek Mill',\n",
       " 'Travis Scott',\n",
       " 'K CAMP',\n",
       " 'Young Dolph',\n",
       " 'A$AP Ferg',\n",
       " 'Chief Keef',\n",
       " 'Jeezy',\n",
       " 'Juicy J',\n",
       " '21 Savage',\n",
       " 'DJ Drama',\n",
       " 'DJ Khaled',\n",
       " 'Rick Ross']"
      ]
     },
     "execution_count": 63,
     "metadata": {},
     "output_type": "execute_result"
    }
   ],
   "source": [
    "related_artists('Future')"
   ]
  },
  {
   "cell_type": "code",
   "execution_count": 19,
   "metadata": {
    "collapsed": true
   },
   "outputs": [],
   "source": [
    "from scipy import spatial\n",
    "\n",
    "# to get cosine similarity..."
   ]
  },
  {
   "cell_type": "code",
   "execution_count": 58,
   "metadata": {
    "collapsed": false
   },
   "outputs": [
    {
     "name": "stdout",
     "output_type": "stream",
     "text": [
      "Cheap Trick\n"
     ]
    }
   ],
   "source": [
    "# roll the predictions one forward and store each vector...\n",
    "'''\n",
    "Uncomment this out later:::\n",
    "\n",
    "relates = [] # empty list to append with future \n",
    "for i in RelatedArtists:\n",
    "    \n",
    "    relates.append(related_artists(i) )\n",
    "    \n",
    "'''\n",
    "\n",
    "# then create a bag of words vector for each proposed artist\n",
    "\n",
    "BOW = np.unique(relates).flatten()\n",
    "    \n",
    "vecs = np.zeros((len(relates), len(BOW)))  # unique artists as columns...\n",
    "\n",
    "for i in range(len(relates)):\n",
    "    \n",
    "    # turn each into a vector of 0 and 1s\n",
    "    \n",
    "    for art in relates[i]:\n",
    "        # this loops over each artist:\n",
    "        idx = np.where(BOW == art)[0][0]\n",
    "        # set that idx number = to 1\n",
    "        vecs[i,idx] = 1\n",
    "    \n",
    "    \n",
    "# then calculate cosine similarity and select the lowest similarity artist and print them\n",
    "sims = np.zeros((len(relates),len(relates)))\n",
    "sim_means = []\n",
    "for i in range(len(vecs)):\n",
    "    # loop over each vector\n",
    "    for j in range(len(vecs)):\n",
    "        # do this again because you want to get similarity between each matrix...\n",
    "        sims[i,j] = 1 - spatial.distance.cosine(vecs[i],vecs[j])\n",
    "    # calculate row wise means:\n",
    "    sim_means.append(np.mean(sims[i] ))\n",
    "    \n",
    "\n",
    "lowest_idx = np.where(sim_means == min(sim_means) )[0][0]\n",
    "\n",
    "# print artists name:\n",
    "\n",
    "print(RelatedArtists[lowest_idx])\n",
    "\n",
    "#excellent it works...\n",
    "\n",
    "#now turn into a function"
   ]
  },
  {
   "cell_type": "code",
   "execution_count": 68,
   "metadata": {
    "collapsed": false
   },
   "outputs": [],
   "source": [
    "def next_artist(artist, artists = []):\n",
    "    ''' artists is the storage of past people that have been in there'''\n",
    "    RelatedArtists = related_artists(artist)\n",
    "    relates = [] # empty list to append with future \n",
    "    \n",
    "    for i in RelatedArtists:\n",
    "        relates.append(related_artists(i) )\n",
    "    \n",
    "    # create a bag of words - to index each artist in:\n",
    "    \n",
    "    BOW = np.unique(relates).flatten() \n",
    "    vecs = np.zeros((len(relates), len(BOW)))  # unique artists as columns...\n",
    "\n",
    "    for i in range(len(relates)):\n",
    "        # turn each into a vector of 0 and 1\n",
    "        for art in relates[i]:\n",
    "            # this loops over each artist:\n",
    "            idx = np.where(BOW == art)[0][0]\n",
    "            # set that idx number = to 1\n",
    "            vecs[i,idx] = 1\n",
    "    \n",
    "    \n",
    "    # then calculate cosine similarity and select the lowest similarity artist and print them\n",
    "    sims = np.zeros((len(relates),len(relates)))\n",
    "    sim_means = []\n",
    "    for i in range(len(vecs)):\n",
    "        # loop over each vector\n",
    "        for j in range(len(vecs)):\n",
    "            # do this again because you want to get similarity between each matrix...\n",
    "            sims[i,j] = 1 - spatial.distance.cosine(vecs[i],vecs[j])\n",
    "        # calculate row wise means:\n",
    "        sim_means.append(np.mean(sims[i] ))\n",
    "    \n",
    "    # find the lowest scoring similarity artist\n",
    "    lowest_idx = np.where(sim_means == min(sim_means) )[0][0]\n",
    "    #print(lowest_idx)\n",
    "    # return artists name:\n",
    "    \n",
    "\n",
    "    if (RelatedArtists[lowest_idx] in artists) == True:\n",
    "        \n",
    "    \n",
    "    \n",
    "    print(RelatedArtists[lowest_idx])\n",
    "    \n",
    "    \n",
    "    return(RelatedArtists[lowest_idx])\n",
    "    "
   ]
  },
  {
   "cell_type": "code",
   "execution_count": 65,
   "metadata": {
    "collapsed": false
   },
   "outputs": [
    {
     "name": "stdout",
     "output_type": "stream",
     "text": [
      "12\n"
     ]
    },
    {
     "data": {
      "text/plain": [
       "'A$AP Ferg'"
      ]
     },
     "execution_count": 65,
     "metadata": {},
     "output_type": "execute_result"
    }
   ],
   "source": [
    "# try that out:\n",
    "next_artist('future')\n",
    "# cool it works -- need to make a function to roll over with iters"
   ]
  },
  {
   "cell_type": "code",
   "execution_count": 66,
   "metadata": {
    "collapsed": true
   },
   "outputs": [],
   "source": [
    "def roll_out(artist, iters, artists = []):\n",
    "    artists.append(artist)\n",
    "    for i in range(iters):\n",
    "        artist = next_artist(artist, artists)\n",
    "        artists.append(artist)\n",
    "        \n",
    "    return(artist, artists)"
   ]
  },
  {
   "cell_type": "code",
   "execution_count": 67,
   "metadata": {
    "collapsed": false
   },
   "outputs": [
    {
     "name": "stdout",
     "output_type": "stream",
     "text": [
      "6\n",
      "10\n"
     ]
    },
    {
     "data": {
      "text/plain": [
       "'Chief Keef'"
      ]
     },
     "execution_count": 67,
     "metadata": {},
     "output_type": "execute_result"
    }
   ],
   "source": [
    "roll_out('A$AP Ferg',2)"
   ]
  },
  {
   "cell_type": "code",
   "execution_count": 70,
   "metadata": {
    "collapsed": false
   },
   "outputs": [
    {
     "name": "stdout",
     "output_type": "stream",
     "text": [
      "10\n",
      "Chief Keef\n",
      "13\n",
      "A$AP Ferg\n"
     ]
    },
    {
     "data": {
      "text/plain": [
       "'A$AP Ferg'"
      ]
     },
     "execution_count": 70,
     "metadata": {},
     "output_type": "execute_result"
    }
   ],
   "source": [
    "roll_out('Waka Flocka Flame',2)"
   ]
  },
  {
   "cell_type": "code",
   "execution_count": 72,
   "metadata": {
    "collapsed": false
   },
   "outputs": [
    {
     "data": {
      "text/plain": [
       "True"
      ]
     },
     "execution_count": 72,
     "metadata": {},
     "output_type": "execute_result"
    }
   ],
   "source": [
    "x = [3,2,1,4,5]\n",
    "\n",
    "3 in x\n"
   ]
  },
  {
   "cell_type": "code",
   "execution_count": null,
   "metadata": {
    "collapsed": true
   },
   "outputs": [],
   "source": []
  }
 ],
 "metadata": {
  "anaconda-cloud": {},
  "kernelspec": {
   "display_name": "Python [Root]",
   "language": "python",
   "name": "Python [Root]"
  },
  "language_info": {
   "codemirror_mode": {
    "name": "ipython",
    "version": 3
   },
   "file_extension": ".py",
   "mimetype": "text/x-python",
   "name": "python",
   "nbconvert_exporter": "python",
   "pygments_lexer": "ipython3",
   "version": "3.5.2"
  }
 },
 "nbformat": 4,
 "nbformat_minor": 0
}
