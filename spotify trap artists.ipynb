{
 "cells": [
  {
   "cell_type": "markdown",
   "metadata": {},
   "source": [
    "# Playing around with the Spotify API"
   ]
  },
  {
   "cell_type": "code",
   "execution_count": 46,
   "metadata": {
    "collapsed": false
   },
   "outputs": [],
   "source": [
    "import pandas as pd\n",
    "import numpy as np\n",
    "import os\n",
    "import sys\n",
    "import spotipy\n",
    "import keras\n",
    "from keras.models import Sequential, Model\n",
    "from keras.layers import Dense, Activation, Input\n",
    "from spotipy.oauth2 import SpotifyClientCredentials\n",
    "import spotipy.util as util\n",
    "\n",
    "from scipy import spatial"
   ]
  },
  {
   "cell_type": "code",
   "execution_count": 2,
   "metadata": {
    "collapsed": false
   },
   "outputs": [],
   "source": [
    "\n"
   ]
  },
  {
   "cell_type": "code",
   "execution_count": 5,
   "metadata": {
    "collapsed": false
   },
   "outputs": [
    {
     "name": "stdout",
     "output_type": "stream",
     "text": [
      "\n",
      "\n",
      "            User authentication requires interaction with your\n",
      "            web browser. Once you enter your credentials and\n",
      "            give authorization, you will be redirected to\n",
      "            a url.  Paste that url you were directed to to\n",
      "            complete the authorization.\n",
      "\n",
      "        \n"
     ]
    }
   ],
   "source": [
    "'''\n",
    "define the API connection - usually log in from here as well...\n",
    "'''\n",
    "token = util.prompt_for_user_token('', '')\n",
    "\n",
    "client_credentials_manager = SpotifyClientCredentials()\n",
    "sp = spotipy.Spotify(client_credentials_manager=client_credentials_manager)\n",
    "\n",
    "\n",
    "#spotify=spotipy.Spotify()\n"
   ]
  },
  {
   "cell_type": "code",
   "execution_count": 7,
   "metadata": {
    "collapsed": false
   },
   "outputs": [
    {
     "data": {
      "text/plain": [
       "'spotify:artist:6vWDO969PvNqNYHIOW5v0m'"
      ]
     },
     "execution_count": 7,
     "metadata": {},
     "output_type": "execute_result"
    }
   ],
   "source": [
    "def get_uri(artist):\n",
    "    results = sp.search(q = \"artist:\" + artist, type = \"artist\")\n",
    "    artist_id = results['artists']['items'][0]['uri'] # changed from '1' to '0' ??\n",
    "   \n",
    "    return(artist_id)\n",
    "\n",
    "get_uri(\"Beyonce\")"
   ]
  },
  {
   "cell_type": "code",
   "execution_count": 9,
   "metadata": {
    "collapsed": true
   },
   "outputs": [],
   "source": [
    "def related_artists(name):\n",
    "    related = sp.artist_related_artists(get_uri(name))\n",
    "    rels = []\n",
    "    for artist in related['artists']:\n",
    "        rels.append(artist['name'])\n",
    "    return(rels)\n",
    "\n",
    "\n",
    "def next_artist(artist, artists = []):\n",
    "    ''' artists is the storage of past people that have been in there'''\n",
    "    RelatedArtists = related_artists(artist)\n",
    "    relates = [] # empty list to append with future \n",
    "    \n",
    "    for i in RelatedArtists:\n",
    "        relates.append(related_artists(i) )\n",
    "    \n",
    "    # create a bag of words - to index each artist in:\n",
    "    \n",
    "    BOW = np.unique(relates).flatten() \n",
    "    vecs = np.zeros((len(relates), len(BOW)))  # unique artists as columns...\n",
    "\n",
    "    for i in range(len(relates)):\n",
    "        # turn each into a vector of 0 and 1\n",
    "        for art in relates[i]:\n",
    "            # this loops over each artist:\n",
    "            idx = np.where(BOW == art)[0][0]\n",
    "            # set that idx number = to 1\n",
    "            vecs[i,idx] = 1\n",
    "    \n",
    "    \n",
    "    # then calculate cosine similarity and select the lowest similarity artist and print them\n",
    "    sims = np.zeros((len(relates),len(relates)))\n",
    "    sim_means = []\n",
    "    for i in range(len(vecs)):\n",
    "        # loop over each vector\n",
    "        for j in range(len(vecs)):\n",
    "            # do this again because you want to get similarity between each matrix...\n",
    "            sims[i,j] = 1 - spatial.distance.cosine(vecs[i],vecs[j])\n",
    "        # calculate row wise means:\n",
    "        sim_means.append(np.var(sims[i] ))\n",
    "    \n",
    "    # find the lowest scoring similarity artist\n",
    "    lowest_idx = np.where(sim_means == max(sim_means) )[0][0]\n",
    "    #print(lowest_idx)\n",
    "    # return artists name:\n",
    "    \n",
    "\n",
    "    #if (RelatedArtists[lowest_idx] in artists) == True :\n",
    "    # do the process again...\n",
    "    \n",
    "    \n",
    "    print(RelatedArtists[lowest_idx])\n",
    "    \n",
    "    \n",
    "    return(RelatedArtists[lowest_idx])"
   ]
  },
  {
   "cell_type": "code",
   "execution_count": 12,
   "metadata": {
    "collapsed": false
   },
   "outputs": [],
   "source": [
    "# import some data to autoencode -- top artists\n",
    "os.chdir('C:\\\\Users\\\\Max.Polaczuk\\\\Google Drive\\\\music_merge\\\\artists')\n",
    "pop50 = pd.read_csv('pop50.csv')"
   ]
  },
  {
   "cell_type": "code",
   "execution_count": 16,
   "metadata": {
    "collapsed": false
   },
   "outputs": [
    {
     "name": "stdout",
     "output_type": "stream",
     "text": [
      "['THE BEATLES', 'MADONNA', 'ELTON JOHN', 'ELVIS PRESLEY', 'MARIAH CAREY', 'STEVIE WONDER', 'JANET JACKSON', 'MICHAEL JACKSON', 'WHITNEY HOUSTON', 'THE ROLLING STONES', 'PAUL MCCARTNEY', 'BEE GEES', 'RIHANNA', 'USHER', 'CHICAGO', 'THE SUPREMES', 'DARYL HALL JOHN OATES', 'PRINCE', 'ROD STEWART', 'OLIVIA NEWTON-JOHN', 'ARETHA FRANKLIN', 'MARVIN GAYE', 'PHIL COLLINS', 'KATY PERRY', 'BILLY JOEL', 'DIANA ROSS', 'THE 4 SEASONS', 'THE TEMPTATIONS', 'DONNA SUMMER', 'THE BEACH BOYS', 'LIONEL RICHIE', 'NEIL DIAMOND', 'CARPENTERS', 'TAYLOR SWIFT', 'BOYZ II MEN', 'THE JACKSONS', 'CONNIE FRANCIS', 'KENNY ROGERS', 'BEYONCE', 'BRENDA LEE', 'BARBRA STREISAND', 'BRYAN ADAMS', 'CHER', 'MAROON 5', 'GEORGE MICHAEL', 'THE BLACK EYED PEAS', 'BOBBY VINTON', 'JOHN MELLENCAMP', 'THREE DOG NIGHT', 'HUEY LEWIS & THE NEWS']\n"
     ]
    }
   ],
   "source": [
    "print(pop50.ix[:,0].tolist())\n",
    "pop = (pop50.ix[:,0].tolist() )"
   ]
  },
  {
   "cell_type": "code",
   "execution_count": null,
   "metadata": {
    "collapsed": true
   },
   "outputs": [],
   "source": [
    "## for each artist get their uid and save\n",
    "\n",
    "uris = []\n",
    "\n",
    "for p in pop:\n",
    "    uris.append(get_uri(p))\n",
    "    "
   ]
  },
  {
   "cell_type": "code",
   "execution_count": null,
   "metadata": {
    "collapsed": true
   },
   "outputs": [],
   "source": [
    "## now we can use these fellows to return their artist information:\n",
    "\n",
    "# save each genre in a list \n",
    "genres = []\n",
    "for i in range(len(uris)):\n",
    "    K = sp.artist(uris[i])['genres']\n",
    "    for k in range(len(K)):\n",
    "        genres.append(K[k])\n",
    "\n"
   ]
  },
  {
   "cell_type": "code",
   "execution_count": 25,
   "metadata": {
    "collapsed": false
   },
   "outputs": [
    {
     "name": "stdout",
     "output_type": "stream",
     "text": [
      "['adult standards' 'album rock' 'australian dance' 'bachata' 'blues-rock'\n",
      " 'boy band' 'brill building pop' 'british blues' 'british invasion'\n",
      " 'bubblegum pop' 'cabaret' 'canadian pop' 'chicago soul' 'christmas'\n",
      " 'classic funk rock' 'classic rock' 'country' 'country christmas'\n",
      " 'country rock' 'dance pop' 'dance rock' 'deep indie r&b' 'deep pop r&b'\n",
      " 'disco' 'doo-wop' 'easy listening' 'electric blues' 'escape room'\n",
      " 'europop' 'folk' 'folk christmas' 'folk rock' 'funk' 'funk rock'\n",
      " 'glam rock' 'hard rock' 'hip hop' 'hip pop' 'hollywood' 'indie r&b'\n",
      " 'jazz blues' 'latin' 'latin hip hop' 'latin pop' 'lounge' 'mellow gold'\n",
      " 'memphis soul' 'merengue urbano' 'merseybeat' 'motown' 'nashville sound'\n",
      " 'neo mellow' 'neo soul' 'new jack swing' 'new romantic' 'new wave'\n",
      " 'new wave pop' 'opera' 'operatic pop' 'outlaw country' 'piano rock' 'pop'\n",
      " 'pop christmas' 'pop rap' 'pop rock' 'post-teen pop' 'protopunk'\n",
      " 'psychedelic rock' 'quiet storm' 'r&b' 'rap' 'reggaeton' 'rock'\n",
      " 'rock-and-roll' 'rockabilly' 'roots rock' 'show tunes' 'singer-songwriter'\n",
      " 'soft rock' 'soul' 'soul blues' 'soul christmas' 'southern hip hop'\n",
      " 'southern rock' 'southern soul' 'symphonic rock' 'traditional country'\n",
      " 'traditional folk' 'tropical' 'underground hip hop' 'urban contemporary'\n",
      " 'vocal jazz']\n"
     ]
    }
   ],
   "source": [
    "# get the unique list of genres and index them..\n",
    "genres = np.unique(genres)\n",
    "print(genres)"
   ]
  },
  {
   "cell_type": "code",
   "execution_count": 32,
   "metadata": {
    "collapsed": false
   },
   "outputs": [],
   "source": [
    "# setup null matrix length of artists by length of genres...\n",
    "GEN = np.zeros((len(pop),len(genres)))\n",
    "\n",
    "# run a loop over each artist to get their vector of \n",
    "\n",
    "for i in range(len(uris)):\n",
    "    K = sp.artist(uris[i])['genres']\n",
    "    for k in range(len(K)):\n",
    "        idx = np.where(genres == K[k])[0][0]\n",
    "        GEN[i,idx] = 1"
   ]
  },
  {
   "cell_type": "code",
   "execution_count": 33,
   "metadata": {
    "collapsed": false
   },
   "outputs": [
    {
     "name": "stdout",
     "output_type": "stream",
     "text": [
      "[[ 0.  0.  0. ...,  0.  0.  0.]\n",
      " [ 0.  0.  0. ...,  0.  0.  0.]\n",
      " [ 0.  1.  0. ...,  0.  0.  0.]\n",
      " ..., \n",
      " [ 0.  1.  0. ...,  0.  0.  0.]\n",
      " [ 0.  1.  0. ...,  0.  0.  0.]\n",
      " [ 0.  1.  0. ...,  0.  0.  0.]]\n"
     ]
    }
   ],
   "source": [
    "print(GEN)"
   ]
  },
  {
   "cell_type": "code",
   "execution_count": 38,
   "metadata": {
    "collapsed": true
   },
   "outputs": [],
   "source": [
    "# now make dataframe of artists and their genres:\n",
    "\n",
    "frame = pd.DataFrame(GEN)\n",
    "frame['Artist'] = pop\n",
    "frame['URI'] = uris\n",
    "\n",
    "cols = frame.columns.tolist()\n",
    "cols = cols[-1:] + cols[:-1]\n",
    "cols = cols[-1:] + cols[:-1]"
   ]
  },
  {
   "cell_type": "code",
   "execution_count": 44,
   "metadata": {
    "collapsed": false
   },
   "outputs": [
    {
     "name": "stdout",
     "output_type": "stream",
     "text": [
      "                   Artist                                    URI    0    1  \\\n",
      "0             THE BEATLES  spotify:artist:3WrFJ7ztbogyGnTHbHJFl2  0.0  0.0   \n",
      "1                 MADONNA  spotify:artist:6tbjWDEIzxoDsBA1FuhfPW  0.0  0.0   \n",
      "2              ELTON JOHN  spotify:artist:3PhoLpVuITZKcymswpck5b  0.0  1.0   \n",
      "3           ELVIS PRESLEY  spotify:artist:43ZHCT0cAZBISjO8DG9PnE  0.0  0.0   \n",
      "4            MARIAH CAREY  spotify:artist:4iHNK0tOyZPYnBU7nGAgpQ  0.0  0.0   \n",
      "5           STEVIE WONDER  spotify:artist:7guDJrEfX3qb6FEbdPA5qi  1.0  0.0   \n",
      "6           JANET JACKSON  spotify:artist:4qwGe91Bz9K2T8jXTZ815W  0.0  0.0   \n",
      "7         MICHAEL JACKSON  spotify:artist:3fMbdgg4jU18AjLCKBhRSm  0.0  0.0   \n",
      "8         WHITNEY HOUSTON  spotify:artist:6XpaIBNiVzIetEPCWDvAFP  0.0  0.0   \n",
      "9      THE ROLLING STONES  spotify:artist:22bE4uQ6baNwSHPVcDxLCe  0.0  1.0   \n",
      "10         PAUL MCCARTNEY  spotify:artist:4STHEaNw4mPZ2tzheohgXB  0.0  1.0   \n",
      "11               BEE GEES  spotify:artist:1LZEQNv7sE11VDY3SdxQeN  1.0  0.0   \n",
      "12                RIHANNA  spotify:artist:5pKCCKE2ajJHZ9KAiaK11H  0.0  0.0   \n",
      "13                  USHER  spotify:artist:23zg3TcAtWQy7J6upgbUnj  0.0  0.0   \n",
      "14                CHICAGO  spotify:artist:07d5etnpjriczFBB8pxmRe  0.0  0.0   \n",
      "15           THE SUPREMES  spotify:artist:57bUPid8xztkieZfS7OlEV  1.0  0.0   \n",
      "16  DARYL HALL JOHN OATES  spotify:artist:77tT1kLj6mCWtFNqiOmP9H  1.0  1.0   \n",
      "17                 PRINCE  spotify:artist:3MHaV05u0io8fQbZ2XPtlC  0.0  0.0   \n",
      "18            ROD STEWART  spotify:artist:2y8Jo9CKhJvtfeKOsYzRdT  1.0  1.0   \n",
      "19     OLIVIA NEWTON-JOHN  spotify:artist:4BoRxUdrcgbbq1rxJvvhg9  1.0  1.0   \n",
      "20        ARETHA FRANKLIN  spotify:artist:7nwUJBm0HE4ZxD3f5cy5ok  1.0  0.0   \n",
      "21            MARVIN GAYE  spotify:artist:3koiLjNrgRTNbOwViDipeA  1.0  0.0   \n",
      "22           PHIL COLLINS  spotify:artist:4lxfqrEsLX6N1N4OCSkILp  0.0  1.0   \n",
      "23             KATY PERRY  spotify:artist:6jJ0s89eD6GaHleKKya26X  0.0  0.0   \n",
      "24             BILLY JOEL  spotify:artist:6zFYqv1mOsgBRQbae3JJ9e  1.0  1.0   \n",
      "25             DIANA ROSS  spotify:artist:3MdG05syQeRYPPcClLaUGl  1.0  0.0   \n",
      "26          THE 4 SEASONS  spotify:artist:6mcrZQmgzFGRWf7C0SObou  1.0  0.0   \n",
      "27        THE TEMPTATIONS  spotify:artist:3RwQ26hR2tJtA8F9p2n7jG  1.0  0.0   \n",
      "28           DONNA SUMMER  spotify:artist:2eogQKWWoohI3BSnoG7E2U  1.0  0.0   \n",
      "29         THE BEACH BOYS  spotify:artist:3oDbviiivRWhXwIE8hxkVV  0.0  1.0   \n",
      "30          LIONEL RICHIE  spotify:artist:3gMaNLQm7D9MornNILzdSl  1.0  0.0   \n",
      "31           NEIL DIAMOND  spotify:artist:7mEIug7XUlQHikrFxjTWes  1.0  1.0   \n",
      "32             CARPENTERS  spotify:artist:1eEfMU2AhEo7XnKgL7c304  1.0  0.0   \n",
      "33           TAYLOR SWIFT  spotify:artist:06HL4z0CvFAxyc27GXpf02  0.0  0.0   \n",
      "34            BOYZ II MEN  spotify:artist:6O74knDqdv3XaWtkII7Xjp  0.0  0.0   \n",
      "35           THE JACKSONS  spotify:artist:2yrbLiuBmc9j81lTX3XUuI  0.0  0.0   \n",
      "36         CONNIE FRANCIS  spotify:artist:3EY5DxGdy7x4GelivOjS2Q  1.0  0.0   \n",
      "37           KENNY ROGERS  spotify:artist:4tw2Lmn9tTPUv7Gy7mVPI4  1.0  0.0   \n",
      "38                BEYONCE  spotify:artist:6vWDO969PvNqNYHIOW5v0m  0.0  0.0   \n",
      "39             BRENDA LEE  spotify:artist:4cPHsZM98sKzmV26wlwD2W  1.0  0.0   \n",
      "40       BARBRA STREISAND  spotify:artist:7jmTilWYlKOuavFfmQAcu6  1.0  0.0   \n",
      "41            BRYAN ADAMS  spotify:artist:3Z02hBLubJxuFJfhacLSDc  0.0  1.0   \n",
      "42                   CHER  spotify:artist:72OaDtakiy6yFqkt4TsiFt  0.0  0.0   \n",
      "43               MAROON 5  spotify:artist:04gDigrS5kc9YWfZHwBETP  0.0  0.0   \n",
      "44         GEORGE MICHAEL  spotify:artist:19ra5tSw0tWufvUp8GotLo  0.0  0.0   \n",
      "45    THE BLACK EYED PEAS  spotify:artist:1yxSLGMDHlW21z4YXirZDS  0.0  0.0   \n",
      "46           BOBBY VINTON  spotify:artist:6bOYtKnpLPQSfMpS2ilotK  1.0  0.0   \n",
      "47        JOHN MELLENCAMP  spotify:artist:3lPQ2Fk5JOwGWAF3ORFCqH  0.0  1.0   \n",
      "48        THREE DOG NIGHT  spotify:artist:4FAEZeJcsYYBkNq2D3KGTV  0.0  1.0   \n",
      "49  HUEY LEWIS & THE NEWS  spotify:artist:7A9yZMTrFZcgEWAX2kBfK6  0.0  1.0   \n",
      "\n",
      "      2    3    4    5    6    7 ...    82   83   84   85   86   87   88   89  \\\n",
      "0   0.0  0.0  0.0  0.0  0.0  0.0 ...   0.0  0.0  0.0  0.0  0.0  0.0  0.0  0.0   \n",
      "1   0.0  0.0  0.0  0.0  0.0  0.0 ...   0.0  0.0  0.0  0.0  0.0  0.0  0.0  0.0   \n",
      "2   0.0  0.0  0.0  0.0  0.0  0.0 ...   0.0  0.0  0.0  0.0  0.0  0.0  0.0  0.0   \n",
      "3   0.0  0.0  0.0  0.0  0.0  0.0 ...   0.0  0.0  0.0  0.0  0.0  0.0  0.0  0.0   \n",
      "4   0.0  0.0  0.0  0.0  0.0  0.0 ...   0.0  0.0  0.0  0.0  0.0  0.0  0.0  0.0   \n",
      "5   0.0  0.0  0.0  0.0  0.0  0.0 ...   0.0  0.0  0.0  0.0  0.0  0.0  0.0  0.0   \n",
      "6   0.0  0.0  0.0  0.0  0.0  0.0 ...   0.0  0.0  0.0  0.0  0.0  0.0  0.0  0.0   \n",
      "7   0.0  0.0  0.0  0.0  0.0  0.0 ...   0.0  0.0  0.0  0.0  0.0  0.0  0.0  0.0   \n",
      "8   0.0  0.0  0.0  0.0  0.0  0.0 ...   0.0  0.0  0.0  0.0  0.0  0.0  0.0  0.0   \n",
      "9   0.0  0.0  0.0  0.0  0.0  0.0 ...   0.0  0.0  0.0  0.0  0.0  0.0  0.0  0.0   \n",
      "10  0.0  0.0  0.0  0.0  0.0  0.0 ...   0.0  0.0  0.0  0.0  0.0  0.0  0.0  0.0   \n",
      "11  0.0  0.0  0.0  0.0  0.0  0.0 ...   0.0  0.0  0.0  0.0  0.0  0.0  0.0  0.0   \n",
      "12  0.0  0.0  0.0  0.0  0.0  0.0 ...   0.0  0.0  0.0  0.0  0.0  0.0  0.0  0.0   \n",
      "13  0.0  0.0  0.0  0.0  0.0  0.0 ...   0.0  0.0  0.0  0.0  0.0  0.0  0.0  0.0   \n",
      "14  0.0  0.0  0.0  0.0  0.0  0.0 ...   1.0  0.0  0.0  0.0  0.0  0.0  0.0  1.0   \n",
      "15  0.0  0.0  0.0  0.0  1.0  0.0 ...   0.0  0.0  1.0  0.0  0.0  0.0  0.0  0.0   \n",
      "16  0.0  0.0  0.0  0.0  0.0  0.0 ...   0.0  0.0  0.0  0.0  0.0  0.0  0.0  0.0   \n",
      "17  0.0  1.0  0.0  0.0  0.0  0.0 ...   0.0  0.0  0.0  0.0  0.0  0.0  1.0  0.0   \n",
      "18  0.0  0.0  0.0  0.0  0.0  0.0 ...   0.0  0.0  0.0  0.0  0.0  0.0  0.0  0.0   \n",
      "19  1.0  0.0  0.0  0.0  1.0  0.0 ...   0.0  0.0  0.0  0.0  0.0  0.0  0.0  0.0   \n",
      "20  0.0  0.0  0.0  0.0  0.0  0.0 ...   0.0  0.0  1.0  0.0  0.0  0.0  0.0  0.0   \n",
      "21  0.0  0.0  0.0  0.0  0.0  0.0 ...   0.0  0.0  0.0  0.0  0.0  0.0  0.0  0.0   \n",
      "22  0.0  0.0  0.0  0.0  0.0  0.0 ...   0.0  0.0  0.0  0.0  0.0  0.0  0.0  0.0   \n",
      "23  0.0  0.0  0.0  0.0  0.0  0.0 ...   0.0  0.0  0.0  0.0  0.0  0.0  0.0  0.0   \n",
      "24  0.0  0.0  0.0  0.0  0.0  0.0 ...   0.0  0.0  0.0  0.0  0.0  0.0  0.0  0.0   \n",
      "25  0.0  0.0  0.0  0.0  1.0  0.0 ...   0.0  0.0  0.0  0.0  0.0  0.0  0.0  0.0   \n",
      "26  0.0  0.0  0.0  0.0  1.0  0.0 ...   0.0  0.0  0.0  0.0  0.0  0.0  0.0  0.0   \n",
      "27  0.0  0.0  0.0  0.0  1.0  0.0 ...   0.0  0.0  1.0  0.0  0.0  0.0  0.0  0.0   \n",
      "28  0.0  0.0  0.0  0.0  0.0  0.0 ...   0.0  0.0  0.0  0.0  0.0  0.0  0.0  0.0   \n",
      "29  0.0  0.0  0.0  0.0  1.0  0.0 ...   0.0  0.0  0.0  0.0  0.0  0.0  0.0  0.0   \n",
      "30  0.0  0.0  0.0  0.0  0.0  0.0 ...   0.0  0.0  0.0  0.0  0.0  0.0  0.0  0.0   \n",
      "31  0.0  0.0  0.0  0.0  1.0  0.0 ...   0.0  0.0  0.0  0.0  0.0  1.0  0.0  0.0   \n",
      "32  0.0  0.0  0.0  0.0  1.0  0.0 ...   0.0  0.0  0.0  0.0  0.0  0.0  0.0  0.0   \n",
      "33  0.0  0.0  0.0  0.0  0.0  0.0 ...   0.0  0.0  0.0  0.0  0.0  0.0  0.0  0.0   \n",
      "34  0.0  0.0  0.0  1.0  0.0  0.0 ...   0.0  0.0  0.0  0.0  0.0  0.0  0.0  0.0   \n",
      "35  0.0  0.0  0.0  1.0  0.0  0.0 ...   0.0  0.0  0.0  0.0  0.0  0.0  0.0  0.0   \n",
      "36  0.0  0.0  0.0  0.0  1.0  0.0 ...   0.0  0.0  0.0  0.0  0.0  0.0  0.0  0.0   \n",
      "37  0.0  0.0  0.0  0.0  0.0  0.0 ...   0.0  0.0  0.0  0.0  1.0  0.0  0.0  0.0   \n",
      "38  0.0  0.0  0.0  0.0  0.0  0.0 ...   0.0  0.0  0.0  0.0  0.0  0.0  0.0  0.0   \n",
      "39  0.0  0.0  0.0  0.0  1.0  0.0 ...   0.0  0.0  0.0  0.0  0.0  0.0  0.0  0.0   \n",
      "40  0.0  0.0  0.0  0.0  0.0  0.0 ...   0.0  0.0  0.0  0.0  0.0  0.0  0.0  0.0   \n",
      "41  0.0  0.0  0.0  0.0  0.0  0.0 ...   0.0  0.0  0.0  0.0  0.0  0.0  0.0  0.0   \n",
      "42  0.0  0.0  0.0  0.0  0.0  0.0 ...   0.0  0.0  0.0  0.0  0.0  0.0  0.0  0.0   \n",
      "43  0.0  0.0  0.0  0.0  0.0  0.0 ...   0.0  0.0  0.0  0.0  0.0  0.0  0.0  0.0   \n",
      "44  0.0  0.0  0.0  1.0  0.0  0.0 ...   0.0  0.0  0.0  0.0  0.0  0.0  0.0  0.0   \n",
      "45  0.0  0.0  0.0  0.0  0.0  0.0 ...   0.0  0.0  0.0  0.0  0.0  0.0  0.0  0.0   \n",
      "46  0.0  0.0  0.0  0.0  1.0  0.0 ...   0.0  0.0  0.0  0.0  0.0  0.0  0.0  0.0   \n",
      "47  0.0  0.0  1.0  0.0  0.0  0.0 ...   0.0  1.0  0.0  0.0  0.0  0.0  0.0  0.0   \n",
      "48  0.0  0.0  1.0  0.0  1.0  1.0 ...   0.0  1.0  0.0  1.0  0.0  1.0  0.0  0.0   \n",
      "49  0.0  0.0  0.0  0.0  0.0  0.0 ...   0.0  0.0  0.0  0.0  0.0  0.0  0.0  0.0   \n",
      "\n",
      "     90   91  \n",
      "0   0.0  0.0  \n",
      "1   0.0  0.0  \n",
      "2   0.0  0.0  \n",
      "3   0.0  0.0  \n",
      "4   1.0  0.0  \n",
      "5   0.0  0.0  \n",
      "6   1.0  0.0  \n",
      "7   0.0  0.0  \n",
      "8   1.0  0.0  \n",
      "9   0.0  0.0  \n",
      "10  0.0  0.0  \n",
      "11  0.0  0.0  \n",
      "12  1.0  0.0  \n",
      "13  1.0  0.0  \n",
      "14  1.0  0.0  \n",
      "15  0.0  0.0  \n",
      "16  0.0  0.0  \n",
      "17  0.0  0.0  \n",
      "18  0.0  0.0  \n",
      "19  0.0  0.0  \n",
      "20  0.0  1.0  \n",
      "21  0.0  0.0  \n",
      "22  0.0  0.0  \n",
      "23  0.0  0.0  \n",
      "24  0.0  0.0  \n",
      "25  1.0  0.0  \n",
      "26  0.0  0.0  \n",
      "27  0.0  0.0  \n",
      "28  0.0  0.0  \n",
      "29  0.0  0.0  \n",
      "30  0.0  0.0  \n",
      "31  0.0  0.0  \n",
      "32  0.0  0.0  \n",
      "33  0.0  0.0  \n",
      "34  1.0  0.0  \n",
      "35  0.0  0.0  \n",
      "36  0.0  0.0  \n",
      "37  0.0  0.0  \n",
      "38  0.0  0.0  \n",
      "39  0.0  0.0  \n",
      "40  0.0  1.0  \n",
      "41  0.0  0.0  \n",
      "42  0.0  0.0  \n",
      "43  0.0  0.0  \n",
      "44  0.0  0.0  \n",
      "45  0.0  0.0  \n",
      "46  0.0  0.0  \n",
      "47  0.0  0.0  \n",
      "48  0.0  0.0  \n",
      "49  0.0  0.0  \n",
      "\n",
      "[50 rows x 94 columns]\n"
     ]
    }
   ],
   "source": [
    "frame = frame[cols]\n",
    "print(frame)\n",
    "frame.to_csv('Artist_genre.csv')\n",
    "\n",
    "inps = np.array(GEN)"
   ]
  },
  {
   "cell_type": "code",
   "execution_count": 47,
   "metadata": {
    "collapsed": false
   },
   "outputs": [],
   "source": [
    "# RUN an autoencoder in 3D over this...\n",
    "\n",
    "''' define the model architecture '''\n",
    "\n",
    "inputs = Input(shape=(np.shape(inps)[1],))\n",
    "\n",
    "encoding_dim = 3\n",
    "# a layer instance is callable on a tensor, and returns a tensor\n",
    "ENCOD = Dense(encoding_dim, activation='relu')(inputs)\n",
    "DECOD = Dense(np.shape(inps)[1], activation='relu')(ENCOD)\n",
    "#predictions = Dense(10, activation='softmax')(x)\n",
    "\n",
    "# this creates a model that includes\n",
    "# the Input layer and three Dense layers\n",
    "autoencoder = Model(input=inputs, output=DECOD)\n",
    "\n",
    "# this model maps an input to its encoded representation\n",
    "encoder = Model(inputs, output = ENCOD)\n",
    "\n",
    "# create a placeholder for an encoded (N-dimensional) input\n",
    "encoded_input = Input(shape=(encoding_dim,))\n",
    "# retrieve the last layer of the autoencoder model\n",
    "#decoder_layer = autoencoder.layers[-1]\n",
    "# create the decoder model\n",
    "#decoder = Model(input=encoded_input, output=decoder_layer(encoded_input))\n",
    "\n",
    "### compile the model...\n",
    "autoencoder.compile(optimizer='rmsprop', loss='mse')"
   ]
  },
  {
   "cell_type": "code",
   "execution_count": 89,
   "metadata": {
    "collapsed": false
   },
   "outputs": [
    {
     "name": "stdout",
     "output_type": "stream",
     "text": [
      "Epoch 1/10\n",
      "50/50 [==============================] - 0s - loss: 0.0443\n",
      "Epoch 2/10\n",
      "50/50 [==============================] - 0s - loss: 0.0442\n",
      "Epoch 3/10\n",
      "50/50 [==============================] - 0s - loss: 0.0442\n",
      "Epoch 4/10\n",
      "50/50 [==============================] - 0s - loss: 0.0442\n",
      "Epoch 5/10\n",
      "50/50 [==============================] - 0s - loss: 0.0442\n",
      "Epoch 6/10\n",
      "50/50 [==============================] - 0s - loss: 0.0442\n",
      "Epoch 7/10\n",
      "50/50 [==============================] - 0s - loss: 0.0442\n",
      "Epoch 8/10\n",
      "50/50 [==============================] - 0s - loss: 0.0442\n",
      "Epoch 9/10\n",
      "50/50 [==============================] - 0s - loss: 0.0442\n",
      "Epoch 10/10\n",
      "50/50 [==============================] - 0s - loss: 0.0442\n"
     ]
    },
    {
     "data": {
      "text/plain": [
       "<keras.callbacks.History at 0xb2dcfd0>"
      ]
     },
     "execution_count": 89,
     "metadata": {},
     "output_type": "execute_result"
    }
   ],
   "source": [
    "autoencoder.fit(inps, inps,\n",
    "                nb_epoch=10,batch_size=100,shuffle=True )"
   ]
  },
  {
   "cell_type": "code",
   "execution_count": 90,
   "metadata": {
    "collapsed": true
   },
   "outputs": [],
   "source": [
    "''' save the predictions... '''\n",
    "encoded_inputs = pd.DataFrame(encoder.predict(inps))"
   ]
  },
  {
   "cell_type": "code",
   "execution_count": 91,
   "metadata": {
    "collapsed": true
   },
   "outputs": [],
   "source": [
    "''' add in names and spotify URIs to the df above... '''\n",
    "\n",
    "encoded_inputs['Artist'] = pop\n",
    "encoded_inputs['URI'] = uris\n",
    "\n",
    "cols = encoded_inputs.columns.tolist()\n",
    "cols = cols[-1:] + cols[:-1]\n",
    "cols = cols[-1:] + cols[:-1]\n",
    "\n",
    "encoded_inputs.to_csv('encoded_artists.csv')"
   ]
  },
  {
   "cell_type": "code",
   "execution_count": null,
   "metadata": {
    "collapsed": true
   },
   "outputs": [],
   "source": []
  }
 ],
 "metadata": {
  "anaconda-cloud": {},
  "kernelspec": {
   "display_name": "Python [Root]",
   "language": "python",
   "name": "Python [Root]"
  },
  "language_info": {
   "codemirror_mode": {
    "name": "ipython",
    "version": 3
   },
   "file_extension": ".py",
   "mimetype": "text/x-python",
   "name": "python",
   "nbconvert_exporter": "python",
   "pygments_lexer": "ipython3",
   "version": "3.5.2"
  }
 },
 "nbformat": 4,
 "nbformat_minor": 0
}
